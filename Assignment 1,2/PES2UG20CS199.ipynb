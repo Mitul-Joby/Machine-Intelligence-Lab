{
  "cells": [
    {
      "cell_type": "markdown",
      "source": [
        "#### Mitul Joby - PES2UG20CS199\n"
      ],
      "metadata": {
        "id": "pmlHJsAF7o0H"
      }
    },
    {
      "cell_type": "code",
      "execution_count": 1,
      "metadata": {
        "id": "-Bk8nTaGvvK7"
      },
      "outputs": [],
      "source": [
        "import pandas as pd\n",
        "import sklearn as sk\n",
        "import tensorflow as tf\n",
        "import numpy as np\n",
        "import seaborn as sns"
      ]
    },
    {
      "cell_type": "code",
      "execution_count": 2,
      "metadata": {
        "colab": {
          "base_uri": "https://localhost:8080/",
          "height": 337
        },
        "id": "snQaF70ZvvLB",
        "outputId": "9160f7ad-50be-429e-9262-2624f73f1cee"
      },
      "outputs": [
        {
          "output_type": "execute_result",
          "data": {
            "text/plain": [
              "  InvoiceNo StockCode                          Description  Quantity  \\\n",
              "0    536365    85123A   WHITE HANGING HEART T-LIGHT HOLDER         6   \n",
              "1    536365     71053                  WHITE METAL LANTERN         6   \n",
              "2    536365    84406B       CREAM CUPID HEARTS COAT HANGER         8   \n",
              "3    536365    84029G  KNITTED UNION FLAG HOT WATER BOTTLE         6   \n",
              "4    536365    84029E       RED WOOLLY HOTTIE WHITE HEART.         6   \n",
              "\n",
              "     InvoiceDate  UnitPrice  CustomerID         Country  \n",
              "0  01-12-10 8:26       2.55     17850.0  United Kingdom  \n",
              "1  01-12-10 8:26       3.39     17850.0  United Kingdom  \n",
              "2  01-12-10 8:26       2.75     17850.0  United Kingdom  \n",
              "3  01-12-10 8:26       3.39     17850.0  United Kingdom  \n",
              "4  01-12-10 8:26       3.39     17850.0  United Kingdom  "
            ],
            "text/html": [
              "\n",
              "  <div id=\"df-1f082c23-e68f-4390-aeab-7bc14fdc1a85\">\n",
              "    <div class=\"colab-df-container\">\n",
              "      <div>\n",
              "<style scoped>\n",
              "    .dataframe tbody tr th:only-of-type {\n",
              "        vertical-align: middle;\n",
              "    }\n",
              "\n",
              "    .dataframe tbody tr th {\n",
              "        vertical-align: top;\n",
              "    }\n",
              "\n",
              "    .dataframe thead th {\n",
              "        text-align: right;\n",
              "    }\n",
              "</style>\n",
              "<table border=\"1\" class=\"dataframe\">\n",
              "  <thead>\n",
              "    <tr style=\"text-align: right;\">\n",
              "      <th></th>\n",
              "      <th>InvoiceNo</th>\n",
              "      <th>StockCode</th>\n",
              "      <th>Description</th>\n",
              "      <th>Quantity</th>\n",
              "      <th>InvoiceDate</th>\n",
              "      <th>UnitPrice</th>\n",
              "      <th>CustomerID</th>\n",
              "      <th>Country</th>\n",
              "    </tr>\n",
              "  </thead>\n",
              "  <tbody>\n",
              "    <tr>\n",
              "      <th>0</th>\n",
              "      <td>536365</td>\n",
              "      <td>85123A</td>\n",
              "      <td>WHITE HANGING HEART T-LIGHT HOLDER</td>\n",
              "      <td>6</td>\n",
              "      <td>01-12-10 8:26</td>\n",
              "      <td>2.55</td>\n",
              "      <td>17850.0</td>\n",
              "      <td>United Kingdom</td>\n",
              "    </tr>\n",
              "    <tr>\n",
              "      <th>1</th>\n",
              "      <td>536365</td>\n",
              "      <td>71053</td>\n",
              "      <td>WHITE METAL LANTERN</td>\n",
              "      <td>6</td>\n",
              "      <td>01-12-10 8:26</td>\n",
              "      <td>3.39</td>\n",
              "      <td>17850.0</td>\n",
              "      <td>United Kingdom</td>\n",
              "    </tr>\n",
              "    <tr>\n",
              "      <th>2</th>\n",
              "      <td>536365</td>\n",
              "      <td>84406B</td>\n",
              "      <td>CREAM CUPID HEARTS COAT HANGER</td>\n",
              "      <td>8</td>\n",
              "      <td>01-12-10 8:26</td>\n",
              "      <td>2.75</td>\n",
              "      <td>17850.0</td>\n",
              "      <td>United Kingdom</td>\n",
              "    </tr>\n",
              "    <tr>\n",
              "      <th>3</th>\n",
              "      <td>536365</td>\n",
              "      <td>84029G</td>\n",
              "      <td>KNITTED UNION FLAG HOT WATER BOTTLE</td>\n",
              "      <td>6</td>\n",
              "      <td>01-12-10 8:26</td>\n",
              "      <td>3.39</td>\n",
              "      <td>17850.0</td>\n",
              "      <td>United Kingdom</td>\n",
              "    </tr>\n",
              "    <tr>\n",
              "      <th>4</th>\n",
              "      <td>536365</td>\n",
              "      <td>84029E</td>\n",
              "      <td>RED WOOLLY HOTTIE WHITE HEART.</td>\n",
              "      <td>6</td>\n",
              "      <td>01-12-10 8:26</td>\n",
              "      <td>3.39</td>\n",
              "      <td>17850.0</td>\n",
              "      <td>United Kingdom</td>\n",
              "    </tr>\n",
              "  </tbody>\n",
              "</table>\n",
              "</div>\n",
              "      <button class=\"colab-df-convert\" onclick=\"convertToInteractive('df-1f082c23-e68f-4390-aeab-7bc14fdc1a85')\"\n",
              "              title=\"Convert this dataframe to an interactive table.\"\n",
              "              style=\"display:none;\">\n",
              "        \n",
              "  <svg xmlns=\"http://www.w3.org/2000/svg\" height=\"24px\"viewBox=\"0 0 24 24\"\n",
              "       width=\"24px\">\n",
              "    <path d=\"M0 0h24v24H0V0z\" fill=\"none\"/>\n",
              "    <path d=\"M18.56 5.44l.94 2.06.94-2.06 2.06-.94-2.06-.94-.94-2.06-.94 2.06-2.06.94zm-11 1L8.5 8.5l.94-2.06 2.06-.94-2.06-.94L8.5 2.5l-.94 2.06-2.06.94zm10 10l.94 2.06.94-2.06 2.06-.94-2.06-.94-.94-2.06-.94 2.06-2.06.94z\"/><path d=\"M17.41 7.96l-1.37-1.37c-.4-.4-.92-.59-1.43-.59-.52 0-1.04.2-1.43.59L10.3 9.45l-7.72 7.72c-.78.78-.78 2.05 0 2.83L4 21.41c.39.39.9.59 1.41.59.51 0 1.02-.2 1.41-.59l7.78-7.78 2.81-2.81c.8-.78.8-2.07 0-2.86zM5.41 20L4 18.59l7.72-7.72 1.47 1.35L5.41 20z\"/>\n",
              "  </svg>\n",
              "      </button>\n",
              "      \n",
              "  <style>\n",
              "    .colab-df-container {\n",
              "      display:flex;\n",
              "      flex-wrap:wrap;\n",
              "      gap: 12px;\n",
              "    }\n",
              "\n",
              "    .colab-df-convert {\n",
              "      background-color: #E8F0FE;\n",
              "      border: none;\n",
              "      border-radius: 50%;\n",
              "      cursor: pointer;\n",
              "      display: none;\n",
              "      fill: #1967D2;\n",
              "      height: 32px;\n",
              "      padding: 0 0 0 0;\n",
              "      width: 32px;\n",
              "    }\n",
              "\n",
              "    .colab-df-convert:hover {\n",
              "      background-color: #E2EBFA;\n",
              "      box-shadow: 0px 1px 2px rgba(60, 64, 67, 0.3), 0px 1px 3px 1px rgba(60, 64, 67, 0.15);\n",
              "      fill: #174EA6;\n",
              "    }\n",
              "\n",
              "    [theme=dark] .colab-df-convert {\n",
              "      background-color: #3B4455;\n",
              "      fill: #D2E3FC;\n",
              "    }\n",
              "\n",
              "    [theme=dark] .colab-df-convert:hover {\n",
              "      background-color: #434B5C;\n",
              "      box-shadow: 0px 1px 3px 1px rgba(0, 0, 0, 0.15);\n",
              "      filter: drop-shadow(0px 1px 2px rgba(0, 0, 0, 0.3));\n",
              "      fill: #FFFFFF;\n",
              "    }\n",
              "  </style>\n",
              "\n",
              "      <script>\n",
              "        const buttonEl =\n",
              "          document.querySelector('#df-1f082c23-e68f-4390-aeab-7bc14fdc1a85 button.colab-df-convert');\n",
              "        buttonEl.style.display =\n",
              "          google.colab.kernel.accessAllowed ? 'block' : 'none';\n",
              "\n",
              "        async function convertToInteractive(key) {\n",
              "          const element = document.querySelector('#df-1f082c23-e68f-4390-aeab-7bc14fdc1a85');\n",
              "          const dataTable =\n",
              "            await google.colab.kernel.invokeFunction('convertToInteractive',\n",
              "                                                     [key], {});\n",
              "          if (!dataTable) return;\n",
              "\n",
              "          const docLinkHtml = 'Like what you see? Visit the ' +\n",
              "            '<a target=\"_blank\" href=https://colab.research.google.com/notebooks/data_table.ipynb>data table notebook</a>'\n",
              "            + ' to learn more about interactive tables.';\n",
              "          element.innerHTML = '';\n",
              "          dataTable['output_type'] = 'display_data';\n",
              "          await google.colab.output.renderOutput(dataTable, element);\n",
              "          const docLink = document.createElement('div');\n",
              "          docLink.innerHTML = docLinkHtml;\n",
              "          element.appendChild(docLink);\n",
              "        }\n",
              "      </script>\n",
              "    </div>\n",
              "  </div>\n",
              "  "
            ]
          },
          "metadata": {},
          "execution_count": 2
        }
      ],
      "source": [
        "df = pd.read_csv(\"/content/MI_Assignment1_2_Online Retail.csv\", encoding= 'unicode_escape')\n",
        "df.head(5)"
      ]
    },
    {
      "cell_type": "code",
      "execution_count": 3,
      "metadata": {
        "colab": {
          "base_uri": "https://localhost:8080/"
        },
        "id": "DgYkERj7vvLD",
        "outputId": "e0d566fd-d5a9-45aa-874a-8aa768e8b520"
      },
      "outputs": [
        {
          "output_type": "execute_result",
          "data": {
            "text/plain": [
              "InvoiceNo      541909\n",
              "StockCode      541909\n",
              "Description    540455\n",
              "Quantity       541909\n",
              "InvoiceDate    541909\n",
              "UnitPrice      541909\n",
              "CustomerID     406829\n",
              "Country        541909\n",
              "dtype: int64"
            ]
          },
          "metadata": {},
          "execution_count": 3
        }
      ],
      "source": [
        "from time import time\n",
        "\n",
        "df['InvoiceDate']=pd.to_datetime(df['InvoiceDate'])\n",
        "df.count()"
      ]
    },
    {
      "cell_type": "code",
      "execution_count": 4,
      "metadata": {
        "colab": {
          "base_uri": "https://localhost:8080/"
        },
        "id": "YPPZN8EDvvLF",
        "outputId": "31f3539b-1126-4a3a-ddd3-d3367227ce69"
      },
      "outputs": [
        {
          "output_type": "execute_result",
          "data": {
            "text/plain": [
              "InvoiceNo           0\n",
              "StockCode           0\n",
              "Description      1454\n",
              "Quantity            0\n",
              "InvoiceDate         0\n",
              "UnitPrice           0\n",
              "CustomerID     135080\n",
              "Country             0\n",
              "dtype: int64"
            ]
          },
          "metadata": {},
          "execution_count": 4
        }
      ],
      "source": [
        "df.isnull().sum() "
      ]
    },
    {
      "cell_type": "code",
      "execution_count": 5,
      "metadata": {
        "id": "TctLRsA5vvLG"
      },
      "outputs": [],
      "source": [
        "df=df[df['CustomerID'].notna()] "
      ]
    },
    {
      "cell_type": "code",
      "execution_count": 6,
      "metadata": {
        "colab": {
          "base_uri": "https://localhost:8080/"
        },
        "id": "pLmVTwLIvvLG",
        "outputId": "42d3ae68-9eef-47bc-9091-24fd18e7e85f"
      },
      "outputs": [
        {
          "output_type": "execute_result",
          "data": {
            "text/plain": [
              "InvoiceNo      0\n",
              "StockCode      0\n",
              "Description    0\n",
              "Quantity       0\n",
              "InvoiceDate    0\n",
              "UnitPrice      0\n",
              "CustomerID     0\n",
              "Country        0\n",
              "dtype: int64"
            ]
          },
          "metadata": {},
          "execution_count": 6
        }
      ],
      "source": [
        "df.isnull().sum()"
      ]
    },
    {
      "cell_type": "code",
      "execution_count": 7,
      "metadata": {
        "id": "YKq4ofB9vvLH"
      },
      "outputs": [],
      "source": [
        "from datetime import datetime\n",
        "from random import triangular\n",
        "\n",
        "start_date=pd.Timestamp(2010,12,1)\n",
        "end_date=pd.Timestamp(2011,8,31)\n",
        "train_set=df[df['InvoiceDate']>=start_date]\n",
        "train_set=train_set[train_set['InvoiceDate']<=end_date]"
      ]
    },
    {
      "cell_type": "code",
      "execution_count": 8,
      "metadata": {
        "colab": {
          "base_uri": "https://localhost:8080/",
          "height": 337
        },
        "id": "Lbg7IocivvLJ",
        "outputId": "56ac6dba-5b23-4af8-b9db-e277db5abded"
      },
      "outputs": [
        {
          "output_type": "execute_result",
          "data": {
            "text/plain": [
              "      InvoiceNo StockCode                      Description  Quantity  \\\n",
              "25281    538365     22469            HEART OF WICKER SMALL         8   \n",
              "25282    538365    84030E    ENGLISH ROSE HOT WATER BOTTLE         1   \n",
              "25283    538365     22112       CHOCOLATE HOT WATER BOTTLE         3   \n",
              "25284    538365     22835  HOT WATER BOTTLE I AM SO POORLY         5   \n",
              "25285    538365    84029E   RED WOOLLY HOTTIE WHITE HEART.         4   \n",
              "\n",
              "              InvoiceDate  UnitPrice  CustomerID         Country  \n",
              "25281 2010-12-12 10:11:00       1.65     17243.0  United Kingdom  \n",
              "25282 2010-12-12 10:11:00       4.25     17243.0  United Kingdom  \n",
              "25283 2010-12-12 10:11:00       4.95     17243.0  United Kingdom  \n",
              "25284 2010-12-12 10:11:00       4.65     17243.0  United Kingdom  \n",
              "25285 2010-12-12 10:11:00       3.75     17243.0  United Kingdom  "
            ],
            "text/html": [
              "\n",
              "  <div id=\"df-d221b396-1632-4a5c-9cf9-dff2b7eb2a39\">\n",
              "    <div class=\"colab-df-container\">\n",
              "      <div>\n",
              "<style scoped>\n",
              "    .dataframe tbody tr th:only-of-type {\n",
              "        vertical-align: middle;\n",
              "    }\n",
              "\n",
              "    .dataframe tbody tr th {\n",
              "        vertical-align: top;\n",
              "    }\n",
              "\n",
              "    .dataframe thead th {\n",
              "        text-align: right;\n",
              "    }\n",
              "</style>\n",
              "<table border=\"1\" class=\"dataframe\">\n",
              "  <thead>\n",
              "    <tr style=\"text-align: right;\">\n",
              "      <th></th>\n",
              "      <th>InvoiceNo</th>\n",
              "      <th>StockCode</th>\n",
              "      <th>Description</th>\n",
              "      <th>Quantity</th>\n",
              "      <th>InvoiceDate</th>\n",
              "      <th>UnitPrice</th>\n",
              "      <th>CustomerID</th>\n",
              "      <th>Country</th>\n",
              "    </tr>\n",
              "  </thead>\n",
              "  <tbody>\n",
              "    <tr>\n",
              "      <th>25281</th>\n",
              "      <td>538365</td>\n",
              "      <td>22469</td>\n",
              "      <td>HEART OF WICKER SMALL</td>\n",
              "      <td>8</td>\n",
              "      <td>2010-12-12 10:11:00</td>\n",
              "      <td>1.65</td>\n",
              "      <td>17243.0</td>\n",
              "      <td>United Kingdom</td>\n",
              "    </tr>\n",
              "    <tr>\n",
              "      <th>25282</th>\n",
              "      <td>538365</td>\n",
              "      <td>84030E</td>\n",
              "      <td>ENGLISH ROSE HOT WATER BOTTLE</td>\n",
              "      <td>1</td>\n",
              "      <td>2010-12-12 10:11:00</td>\n",
              "      <td>4.25</td>\n",
              "      <td>17243.0</td>\n",
              "      <td>United Kingdom</td>\n",
              "    </tr>\n",
              "    <tr>\n",
              "      <th>25283</th>\n",
              "      <td>538365</td>\n",
              "      <td>22112</td>\n",
              "      <td>CHOCOLATE HOT WATER BOTTLE</td>\n",
              "      <td>3</td>\n",
              "      <td>2010-12-12 10:11:00</td>\n",
              "      <td>4.95</td>\n",
              "      <td>17243.0</td>\n",
              "      <td>United Kingdom</td>\n",
              "    </tr>\n",
              "    <tr>\n",
              "      <th>25284</th>\n",
              "      <td>538365</td>\n",
              "      <td>22835</td>\n",
              "      <td>HOT WATER BOTTLE I AM SO POORLY</td>\n",
              "      <td>5</td>\n",
              "      <td>2010-12-12 10:11:00</td>\n",
              "      <td>4.65</td>\n",
              "      <td>17243.0</td>\n",
              "      <td>United Kingdom</td>\n",
              "    </tr>\n",
              "    <tr>\n",
              "      <th>25285</th>\n",
              "      <td>538365</td>\n",
              "      <td>84029E</td>\n",
              "      <td>RED WOOLLY HOTTIE WHITE HEART.</td>\n",
              "      <td>4</td>\n",
              "      <td>2010-12-12 10:11:00</td>\n",
              "      <td>3.75</td>\n",
              "      <td>17243.0</td>\n",
              "      <td>United Kingdom</td>\n",
              "    </tr>\n",
              "  </tbody>\n",
              "</table>\n",
              "</div>\n",
              "      <button class=\"colab-df-convert\" onclick=\"convertToInteractive('df-d221b396-1632-4a5c-9cf9-dff2b7eb2a39')\"\n",
              "              title=\"Convert this dataframe to an interactive table.\"\n",
              "              style=\"display:none;\">\n",
              "        \n",
              "  <svg xmlns=\"http://www.w3.org/2000/svg\" height=\"24px\"viewBox=\"0 0 24 24\"\n",
              "       width=\"24px\">\n",
              "    <path d=\"M0 0h24v24H0V0z\" fill=\"none\"/>\n",
              "    <path d=\"M18.56 5.44l.94 2.06.94-2.06 2.06-.94-2.06-.94-.94-2.06-.94 2.06-2.06.94zm-11 1L8.5 8.5l.94-2.06 2.06-.94-2.06-.94L8.5 2.5l-.94 2.06-2.06.94zm10 10l.94 2.06.94-2.06 2.06-.94-2.06-.94-.94-2.06-.94 2.06-2.06.94z\"/><path d=\"M17.41 7.96l-1.37-1.37c-.4-.4-.92-.59-1.43-.59-.52 0-1.04.2-1.43.59L10.3 9.45l-7.72 7.72c-.78.78-.78 2.05 0 2.83L4 21.41c.39.39.9.59 1.41.59.51 0 1.02-.2 1.41-.59l7.78-7.78 2.81-2.81c.8-.78.8-2.07 0-2.86zM5.41 20L4 18.59l7.72-7.72 1.47 1.35L5.41 20z\"/>\n",
              "  </svg>\n",
              "      </button>\n",
              "      \n",
              "  <style>\n",
              "    .colab-df-container {\n",
              "      display:flex;\n",
              "      flex-wrap:wrap;\n",
              "      gap: 12px;\n",
              "    }\n",
              "\n",
              "    .colab-df-convert {\n",
              "      background-color: #E8F0FE;\n",
              "      border: none;\n",
              "      border-radius: 50%;\n",
              "      cursor: pointer;\n",
              "      display: none;\n",
              "      fill: #1967D2;\n",
              "      height: 32px;\n",
              "      padding: 0 0 0 0;\n",
              "      width: 32px;\n",
              "    }\n",
              "\n",
              "    .colab-df-convert:hover {\n",
              "      background-color: #E2EBFA;\n",
              "      box-shadow: 0px 1px 2px rgba(60, 64, 67, 0.3), 0px 1px 3px 1px rgba(60, 64, 67, 0.15);\n",
              "      fill: #174EA6;\n",
              "    }\n",
              "\n",
              "    [theme=dark] .colab-df-convert {\n",
              "      background-color: #3B4455;\n",
              "      fill: #D2E3FC;\n",
              "    }\n",
              "\n",
              "    [theme=dark] .colab-df-convert:hover {\n",
              "      background-color: #434B5C;\n",
              "      box-shadow: 0px 1px 3px 1px rgba(0, 0, 0, 0.15);\n",
              "      filter: drop-shadow(0px 1px 2px rgba(0, 0, 0, 0.3));\n",
              "      fill: #FFFFFF;\n",
              "    }\n",
              "  </style>\n",
              "\n",
              "      <script>\n",
              "        const buttonEl =\n",
              "          document.querySelector('#df-d221b396-1632-4a5c-9cf9-dff2b7eb2a39 button.colab-df-convert');\n",
              "        buttonEl.style.display =\n",
              "          google.colab.kernel.accessAllowed ? 'block' : 'none';\n",
              "\n",
              "        async function convertToInteractive(key) {\n",
              "          const element = document.querySelector('#df-d221b396-1632-4a5c-9cf9-dff2b7eb2a39');\n",
              "          const dataTable =\n",
              "            await google.colab.kernel.invokeFunction('convertToInteractive',\n",
              "                                                     [key], {});\n",
              "          if (!dataTable) return;\n",
              "\n",
              "          const docLinkHtml = 'Like what you see? Visit the ' +\n",
              "            '<a target=\"_blank\" href=https://colab.research.google.com/notebooks/data_table.ipynb>data table notebook</a>'\n",
              "            + ' to learn more about interactive tables.';\n",
              "          element.innerHTML = '';\n",
              "          dataTable['output_type'] = 'display_data';\n",
              "          await google.colab.output.renderOutput(dataTable, element);\n",
              "          const docLink = document.createElement('div');\n",
              "          docLink.innerHTML = docLinkHtml;\n",
              "          element.appendChild(docLink);\n",
              "        }\n",
              "      </script>\n",
              "    </div>\n",
              "  </div>\n",
              "  "
            ]
          },
          "metadata": {},
          "execution_count": 8
        }
      ],
      "source": [
        "train_set.head()"
      ]
    },
    {
      "cell_type": "code",
      "execution_count": 9,
      "metadata": {
        "colab": {
          "base_uri": "https://localhost:8080/",
          "height": 337
        },
        "id": "Ce4CCKCMvvLK",
        "outputId": "54d55761-a2b6-466b-ce10-de9cd8be313b"
      },
      "outputs": [
        {
          "output_type": "execute_result",
          "data": {
            "text/plain": [
              "      InvoiceNo StockCode                       Description  Quantity  \\\n",
              "49034    540498     21485  RETROSPOT HEART HOT WATER BOTTLE         1   \n",
              "49035    540498     22112        CHOCOLATE HOT WATER BOTTLE         1   \n",
              "49036    540498    17091A           LAVENDER INCENSE IN TIN         6   \n",
              "49037    540498     84813     SET OF 4 DIAMOND NAPKIN RINGS         6   \n",
              "49038    540498     22795      SWEETHEART RECIPE BOOK STAND         3   \n",
              "\n",
              "              InvoiceDate  UnitPrice  CustomerID         Country  \n",
              "49034 2011-09-01 10:06:00       4.95     17243.0  United Kingdom  \n",
              "49035 2011-09-01 10:06:00       4.95     17243.0  United Kingdom  \n",
              "49036 2011-09-01 10:06:00       1.25     17243.0  United Kingdom  \n",
              "49037 2011-09-01 10:06:00      12.75     17243.0  United Kingdom  \n",
              "49038 2011-09-01 10:06:00       6.75     17243.0  United Kingdom  "
            ],
            "text/html": [
              "\n",
              "  <div id=\"df-aebbc549-f03b-47b9-a0e0-591849a19f95\">\n",
              "    <div class=\"colab-df-container\">\n",
              "      <div>\n",
              "<style scoped>\n",
              "    .dataframe tbody tr th:only-of-type {\n",
              "        vertical-align: middle;\n",
              "    }\n",
              "\n",
              "    .dataframe tbody tr th {\n",
              "        vertical-align: top;\n",
              "    }\n",
              "\n",
              "    .dataframe thead th {\n",
              "        text-align: right;\n",
              "    }\n",
              "</style>\n",
              "<table border=\"1\" class=\"dataframe\">\n",
              "  <thead>\n",
              "    <tr style=\"text-align: right;\">\n",
              "      <th></th>\n",
              "      <th>InvoiceNo</th>\n",
              "      <th>StockCode</th>\n",
              "      <th>Description</th>\n",
              "      <th>Quantity</th>\n",
              "      <th>InvoiceDate</th>\n",
              "      <th>UnitPrice</th>\n",
              "      <th>CustomerID</th>\n",
              "      <th>Country</th>\n",
              "    </tr>\n",
              "  </thead>\n",
              "  <tbody>\n",
              "    <tr>\n",
              "      <th>49034</th>\n",
              "      <td>540498</td>\n",
              "      <td>21485</td>\n",
              "      <td>RETROSPOT HEART HOT WATER BOTTLE</td>\n",
              "      <td>1</td>\n",
              "      <td>2011-09-01 10:06:00</td>\n",
              "      <td>4.95</td>\n",
              "      <td>17243.0</td>\n",
              "      <td>United Kingdom</td>\n",
              "    </tr>\n",
              "    <tr>\n",
              "      <th>49035</th>\n",
              "      <td>540498</td>\n",
              "      <td>22112</td>\n",
              "      <td>CHOCOLATE HOT WATER BOTTLE</td>\n",
              "      <td>1</td>\n",
              "      <td>2011-09-01 10:06:00</td>\n",
              "      <td>4.95</td>\n",
              "      <td>17243.0</td>\n",
              "      <td>United Kingdom</td>\n",
              "    </tr>\n",
              "    <tr>\n",
              "      <th>49036</th>\n",
              "      <td>540498</td>\n",
              "      <td>17091A</td>\n",
              "      <td>LAVENDER INCENSE IN TIN</td>\n",
              "      <td>6</td>\n",
              "      <td>2011-09-01 10:06:00</td>\n",
              "      <td>1.25</td>\n",
              "      <td>17243.0</td>\n",
              "      <td>United Kingdom</td>\n",
              "    </tr>\n",
              "    <tr>\n",
              "      <th>49037</th>\n",
              "      <td>540498</td>\n",
              "      <td>84813</td>\n",
              "      <td>SET OF 4 DIAMOND NAPKIN RINGS</td>\n",
              "      <td>6</td>\n",
              "      <td>2011-09-01 10:06:00</td>\n",
              "      <td>12.75</td>\n",
              "      <td>17243.0</td>\n",
              "      <td>United Kingdom</td>\n",
              "    </tr>\n",
              "    <tr>\n",
              "      <th>49038</th>\n",
              "      <td>540498</td>\n",
              "      <td>22795</td>\n",
              "      <td>SWEETHEART RECIPE BOOK STAND</td>\n",
              "      <td>3</td>\n",
              "      <td>2011-09-01 10:06:00</td>\n",
              "      <td>6.75</td>\n",
              "      <td>17243.0</td>\n",
              "      <td>United Kingdom</td>\n",
              "    </tr>\n",
              "  </tbody>\n",
              "</table>\n",
              "</div>\n",
              "      <button class=\"colab-df-convert\" onclick=\"convertToInteractive('df-aebbc549-f03b-47b9-a0e0-591849a19f95')\"\n",
              "              title=\"Convert this dataframe to an interactive table.\"\n",
              "              style=\"display:none;\">\n",
              "        \n",
              "  <svg xmlns=\"http://www.w3.org/2000/svg\" height=\"24px\"viewBox=\"0 0 24 24\"\n",
              "       width=\"24px\">\n",
              "    <path d=\"M0 0h24v24H0V0z\" fill=\"none\"/>\n",
              "    <path d=\"M18.56 5.44l.94 2.06.94-2.06 2.06-.94-2.06-.94-.94-2.06-.94 2.06-2.06.94zm-11 1L8.5 8.5l.94-2.06 2.06-.94-2.06-.94L8.5 2.5l-.94 2.06-2.06.94zm10 10l.94 2.06.94-2.06 2.06-.94-2.06-.94-.94-2.06-.94 2.06-2.06.94z\"/><path d=\"M17.41 7.96l-1.37-1.37c-.4-.4-.92-.59-1.43-.59-.52 0-1.04.2-1.43.59L10.3 9.45l-7.72 7.72c-.78.78-.78 2.05 0 2.83L4 21.41c.39.39.9.59 1.41.59.51 0 1.02-.2 1.41-.59l7.78-7.78 2.81-2.81c.8-.78.8-2.07 0-2.86zM5.41 20L4 18.59l7.72-7.72 1.47 1.35L5.41 20z\"/>\n",
              "  </svg>\n",
              "      </button>\n",
              "      \n",
              "  <style>\n",
              "    .colab-df-container {\n",
              "      display:flex;\n",
              "      flex-wrap:wrap;\n",
              "      gap: 12px;\n",
              "    }\n",
              "\n",
              "    .colab-df-convert {\n",
              "      background-color: #E8F0FE;\n",
              "      border: none;\n",
              "      border-radius: 50%;\n",
              "      cursor: pointer;\n",
              "      display: none;\n",
              "      fill: #1967D2;\n",
              "      height: 32px;\n",
              "      padding: 0 0 0 0;\n",
              "      width: 32px;\n",
              "    }\n",
              "\n",
              "    .colab-df-convert:hover {\n",
              "      background-color: #E2EBFA;\n",
              "      box-shadow: 0px 1px 2px rgba(60, 64, 67, 0.3), 0px 1px 3px 1px rgba(60, 64, 67, 0.15);\n",
              "      fill: #174EA6;\n",
              "    }\n",
              "\n",
              "    [theme=dark] .colab-df-convert {\n",
              "      background-color: #3B4455;\n",
              "      fill: #D2E3FC;\n",
              "    }\n",
              "\n",
              "    [theme=dark] .colab-df-convert:hover {\n",
              "      background-color: #434B5C;\n",
              "      box-shadow: 0px 1px 3px 1px rgba(0, 0, 0, 0.15);\n",
              "      filter: drop-shadow(0px 1px 2px rgba(0, 0, 0, 0.3));\n",
              "      fill: #FFFFFF;\n",
              "    }\n",
              "  </style>\n",
              "\n",
              "      <script>\n",
              "        const buttonEl =\n",
              "          document.querySelector('#df-aebbc549-f03b-47b9-a0e0-591849a19f95 button.colab-df-convert');\n",
              "        buttonEl.style.display =\n",
              "          google.colab.kernel.accessAllowed ? 'block' : 'none';\n",
              "\n",
              "        async function convertToInteractive(key) {\n",
              "          const element = document.querySelector('#df-aebbc549-f03b-47b9-a0e0-591849a19f95');\n",
              "          const dataTable =\n",
              "            await google.colab.kernel.invokeFunction('convertToInteractive',\n",
              "                                                     [key], {});\n",
              "          if (!dataTable) return;\n",
              "\n",
              "          const docLinkHtml = 'Like what you see? Visit the ' +\n",
              "            '<a target=\"_blank\" href=https://colab.research.google.com/notebooks/data_table.ipynb>data table notebook</a>'\n",
              "            + ' to learn more about interactive tables.';\n",
              "          element.innerHTML = '';\n",
              "          dataTable['output_type'] = 'display_data';\n",
              "          await google.colab.output.renderOutput(dataTable, element);\n",
              "          const docLink = document.createElement('div');\n",
              "          docLink.innerHTML = docLinkHtml;\n",
              "          element.appendChild(docLink);\n",
              "        }\n",
              "      </script>\n",
              "    </div>\n",
              "  </div>\n",
              "  "
            ]
          },
          "metadata": {},
          "execution_count": 9
        }
      ],
      "source": [
        "start=pd.Timestamp(2011,9,1)\n",
        "end=pd.Timestamp(2011,12,31)\n",
        "churn_set=df[df['InvoiceDate']>=start]\n",
        "churn_set=churn_set[churn_set['InvoiceDate']<=end]\n",
        "churn_set.head()"
      ]
    },
    {
      "cell_type": "code",
      "execution_count": 10,
      "metadata": {
        "id": "OxxELknZvvLL"
      },
      "outputs": [],
      "source": [
        "train_unique=train_set['CustomerID'].unique()\n",
        "churn_unique=churn_set['CustomerID'].unique()\n",
        "\n",
        "ischurnlis=[]\n",
        "for id in train_unique:\n",
        "    if id in churn_unique:\n",
        "        ischurnlis.append(id)"
      ]
    },
    {
      "cell_type": "code",
      "execution_count": 11,
      "metadata": {
        "id": "2yENaylavvLM"
      },
      "outputs": [],
      "source": [
        "train_set=train_set.assign(isChurn=[1 if x in ischurnlis else 0 for x in train_set['CustomerID']])"
      ]
    },
    {
      "cell_type": "code",
      "execution_count": 12,
      "metadata": {
        "colab": {
          "base_uri": "https://localhost:8080/",
          "height": 389
        },
        "id": "tVZvAgiGvvLN",
        "outputId": "c6c3c9f1-d4f4-4d83-fbea-73e7faddb845"
      },
      "outputs": [
        {
          "output_type": "execute_result",
          "data": {
            "text/plain": [
              "      InvoiceNo StockCode                      Description  Quantity  \\\n",
              "25281    538365     22469            HEART OF WICKER SMALL         8   \n",
              "25282    538365    84030E    ENGLISH ROSE HOT WATER BOTTLE         1   \n",
              "25283    538365     22112       CHOCOLATE HOT WATER BOTTLE         3   \n",
              "25284    538365     22835  HOT WATER BOTTLE I AM SO POORLY         5   \n",
              "25285    538365    84029E   RED WOOLLY HOTTIE WHITE HEART.         4   \n",
              "\n",
              "              InvoiceDate  UnitPrice  CustomerID         Country  isChurn  \n",
              "25281 2010-12-12 10:11:00       1.65     17243.0  United Kingdom        1  \n",
              "25282 2010-12-12 10:11:00       4.25     17243.0  United Kingdom        1  \n",
              "25283 2010-12-12 10:11:00       4.95     17243.0  United Kingdom        1  \n",
              "25284 2010-12-12 10:11:00       4.65     17243.0  United Kingdom        1  \n",
              "25285 2010-12-12 10:11:00       3.75     17243.0  United Kingdom        1  "
            ],
            "text/html": [
              "\n",
              "  <div id=\"df-dbdc5478-995e-478c-b0ce-4ab20da783f9\">\n",
              "    <div class=\"colab-df-container\">\n",
              "      <div>\n",
              "<style scoped>\n",
              "    .dataframe tbody tr th:only-of-type {\n",
              "        vertical-align: middle;\n",
              "    }\n",
              "\n",
              "    .dataframe tbody tr th {\n",
              "        vertical-align: top;\n",
              "    }\n",
              "\n",
              "    .dataframe thead th {\n",
              "        text-align: right;\n",
              "    }\n",
              "</style>\n",
              "<table border=\"1\" class=\"dataframe\">\n",
              "  <thead>\n",
              "    <tr style=\"text-align: right;\">\n",
              "      <th></th>\n",
              "      <th>InvoiceNo</th>\n",
              "      <th>StockCode</th>\n",
              "      <th>Description</th>\n",
              "      <th>Quantity</th>\n",
              "      <th>InvoiceDate</th>\n",
              "      <th>UnitPrice</th>\n",
              "      <th>CustomerID</th>\n",
              "      <th>Country</th>\n",
              "      <th>isChurn</th>\n",
              "    </tr>\n",
              "  </thead>\n",
              "  <tbody>\n",
              "    <tr>\n",
              "      <th>25281</th>\n",
              "      <td>538365</td>\n",
              "      <td>22469</td>\n",
              "      <td>HEART OF WICKER SMALL</td>\n",
              "      <td>8</td>\n",
              "      <td>2010-12-12 10:11:00</td>\n",
              "      <td>1.65</td>\n",
              "      <td>17243.0</td>\n",
              "      <td>United Kingdom</td>\n",
              "      <td>1</td>\n",
              "    </tr>\n",
              "    <tr>\n",
              "      <th>25282</th>\n",
              "      <td>538365</td>\n",
              "      <td>84030E</td>\n",
              "      <td>ENGLISH ROSE HOT WATER BOTTLE</td>\n",
              "      <td>1</td>\n",
              "      <td>2010-12-12 10:11:00</td>\n",
              "      <td>4.25</td>\n",
              "      <td>17243.0</td>\n",
              "      <td>United Kingdom</td>\n",
              "      <td>1</td>\n",
              "    </tr>\n",
              "    <tr>\n",
              "      <th>25283</th>\n",
              "      <td>538365</td>\n",
              "      <td>22112</td>\n",
              "      <td>CHOCOLATE HOT WATER BOTTLE</td>\n",
              "      <td>3</td>\n",
              "      <td>2010-12-12 10:11:00</td>\n",
              "      <td>4.95</td>\n",
              "      <td>17243.0</td>\n",
              "      <td>United Kingdom</td>\n",
              "      <td>1</td>\n",
              "    </tr>\n",
              "    <tr>\n",
              "      <th>25284</th>\n",
              "      <td>538365</td>\n",
              "      <td>22835</td>\n",
              "      <td>HOT WATER BOTTLE I AM SO POORLY</td>\n",
              "      <td>5</td>\n",
              "      <td>2010-12-12 10:11:00</td>\n",
              "      <td>4.65</td>\n",
              "      <td>17243.0</td>\n",
              "      <td>United Kingdom</td>\n",
              "      <td>1</td>\n",
              "    </tr>\n",
              "    <tr>\n",
              "      <th>25285</th>\n",
              "      <td>538365</td>\n",
              "      <td>84029E</td>\n",
              "      <td>RED WOOLLY HOTTIE WHITE HEART.</td>\n",
              "      <td>4</td>\n",
              "      <td>2010-12-12 10:11:00</td>\n",
              "      <td>3.75</td>\n",
              "      <td>17243.0</td>\n",
              "      <td>United Kingdom</td>\n",
              "      <td>1</td>\n",
              "    </tr>\n",
              "  </tbody>\n",
              "</table>\n",
              "</div>\n",
              "      <button class=\"colab-df-convert\" onclick=\"convertToInteractive('df-dbdc5478-995e-478c-b0ce-4ab20da783f9')\"\n",
              "              title=\"Convert this dataframe to an interactive table.\"\n",
              "              style=\"display:none;\">\n",
              "        \n",
              "  <svg xmlns=\"http://www.w3.org/2000/svg\" height=\"24px\"viewBox=\"0 0 24 24\"\n",
              "       width=\"24px\">\n",
              "    <path d=\"M0 0h24v24H0V0z\" fill=\"none\"/>\n",
              "    <path d=\"M18.56 5.44l.94 2.06.94-2.06 2.06-.94-2.06-.94-.94-2.06-.94 2.06-2.06.94zm-11 1L8.5 8.5l.94-2.06 2.06-.94-2.06-.94L8.5 2.5l-.94 2.06-2.06.94zm10 10l.94 2.06.94-2.06 2.06-.94-2.06-.94-.94-2.06-.94 2.06-2.06.94z\"/><path d=\"M17.41 7.96l-1.37-1.37c-.4-.4-.92-.59-1.43-.59-.52 0-1.04.2-1.43.59L10.3 9.45l-7.72 7.72c-.78.78-.78 2.05 0 2.83L4 21.41c.39.39.9.59 1.41.59.51 0 1.02-.2 1.41-.59l7.78-7.78 2.81-2.81c.8-.78.8-2.07 0-2.86zM5.41 20L4 18.59l7.72-7.72 1.47 1.35L5.41 20z\"/>\n",
              "  </svg>\n",
              "      </button>\n",
              "      \n",
              "  <style>\n",
              "    .colab-df-container {\n",
              "      display:flex;\n",
              "      flex-wrap:wrap;\n",
              "      gap: 12px;\n",
              "    }\n",
              "\n",
              "    .colab-df-convert {\n",
              "      background-color: #E8F0FE;\n",
              "      border: none;\n",
              "      border-radius: 50%;\n",
              "      cursor: pointer;\n",
              "      display: none;\n",
              "      fill: #1967D2;\n",
              "      height: 32px;\n",
              "      padding: 0 0 0 0;\n",
              "      width: 32px;\n",
              "    }\n",
              "\n",
              "    .colab-df-convert:hover {\n",
              "      background-color: #E2EBFA;\n",
              "      box-shadow: 0px 1px 2px rgba(60, 64, 67, 0.3), 0px 1px 3px 1px rgba(60, 64, 67, 0.15);\n",
              "      fill: #174EA6;\n",
              "    }\n",
              "\n",
              "    [theme=dark] .colab-df-convert {\n",
              "      background-color: #3B4455;\n",
              "      fill: #D2E3FC;\n",
              "    }\n",
              "\n",
              "    [theme=dark] .colab-df-convert:hover {\n",
              "      background-color: #434B5C;\n",
              "      box-shadow: 0px 1px 3px 1px rgba(0, 0, 0, 0.15);\n",
              "      filter: drop-shadow(0px 1px 2px rgba(0, 0, 0, 0.3));\n",
              "      fill: #FFFFFF;\n",
              "    }\n",
              "  </style>\n",
              "\n",
              "      <script>\n",
              "        const buttonEl =\n",
              "          document.querySelector('#df-dbdc5478-995e-478c-b0ce-4ab20da783f9 button.colab-df-convert');\n",
              "        buttonEl.style.display =\n",
              "          google.colab.kernel.accessAllowed ? 'block' : 'none';\n",
              "\n",
              "        async function convertToInteractive(key) {\n",
              "          const element = document.querySelector('#df-dbdc5478-995e-478c-b0ce-4ab20da783f9');\n",
              "          const dataTable =\n",
              "            await google.colab.kernel.invokeFunction('convertToInteractive',\n",
              "                                                     [key], {});\n",
              "          if (!dataTable) return;\n",
              "\n",
              "          const docLinkHtml = 'Like what you see? Visit the ' +\n",
              "            '<a target=\"_blank\" href=https://colab.research.google.com/notebooks/data_table.ipynb>data table notebook</a>'\n",
              "            + ' to learn more about interactive tables.';\n",
              "          element.innerHTML = '';\n",
              "          dataTable['output_type'] = 'display_data';\n",
              "          await google.colab.output.renderOutput(dataTable, element);\n",
              "          const docLink = document.createElement('div');\n",
              "          docLink.innerHTML = docLinkHtml;\n",
              "          element.appendChild(docLink);\n",
              "        }\n",
              "      </script>\n",
              "    </div>\n",
              "  </div>\n",
              "  "
            ]
          },
          "metadata": {},
          "execution_count": 12
        }
      ],
      "source": [
        "train_set.head()"
      ]
    },
    {
      "cell_type": "code",
      "execution_count": 13,
      "metadata": {
        "colab": {
          "base_uri": "https://localhost:8080/"
        },
        "id": "85b751zuvvLO",
        "outputId": "80fb2a38-88c5-4560-84e6-faf71675901b"
      },
      "outputs": [
        {
          "output_type": "execute_result",
          "data": {
            "text/plain": [
              "InvoiceNo      242032\n",
              "StockCode      242032\n",
              "Description    242032\n",
              "Quantity       242032\n",
              "InvoiceDate    242032\n",
              "UnitPrice      242032\n",
              "CustomerID     242032\n",
              "Country        242032\n",
              "isChurn        242032\n",
              "dtype: int64"
            ]
          },
          "metadata": {},
          "execution_count": 13
        }
      ],
      "source": [
        "train_set.count()"
      ]
    },
    {
      "cell_type": "code",
      "execution_count": 14,
      "metadata": {
        "colab": {
          "base_uri": "https://localhost:8080/"
        },
        "id": "YTDuLUocvvLP",
        "outputId": "0f610ab1-c6d0-47e0-fcf2-671f21bc546d"
      },
      "outputs": [
        {
          "output_type": "execute_result",
          "data": {
            "text/plain": [
              "{'United Kingdom': 0,\n",
              " 'Japan': 1,\n",
              " 'Spain': 2,\n",
              " 'Germany': 3,\n",
              " 'Australia': 4,\n",
              " 'Cyprus': 5,\n",
              " 'Sweden': 6,\n",
              " 'Portugal': 7,\n",
              " 'Austria': 8,\n",
              " 'Israel': 9,\n",
              " 'France': 10,\n",
              " 'EIRE': 11,\n",
              " 'Finland': 12,\n",
              " 'Belgium': 13,\n",
              " 'Switzerland': 14,\n",
              " 'Netherlands': 15,\n",
              " 'Italy': 16,\n",
              " 'Poland': 17,\n",
              " 'Greece': 18,\n",
              " 'Singapore': 19,\n",
              " 'Iceland': 20,\n",
              " 'Channel Islands': 21,\n",
              " 'Lebanon': 22,\n",
              " 'Norway': 23,\n",
              " 'United Arab Emirates': 24,\n",
              " 'Denmark': 25,\n",
              " 'Saudi Arabia': 26,\n",
              " 'Czech Republic': 27,\n",
              " 'Canada': 28,\n",
              " 'Brazil': 29,\n",
              " 'USA': 30,\n",
              " 'European Community': 31,\n",
              " 'Bahrain': 32,\n",
              " 'Malta': 33,\n",
              " 'Unspecified': 34}"
            ]
          },
          "metadata": {},
          "execution_count": 14
        }
      ],
      "source": [
        "#taking care of country\n",
        "countries_dic={}\n",
        "\n",
        "countries=train_set['Country'].unique()\n",
        "for i,y in enumerate(countries):\n",
        "    countries_dic[y]=i\n",
        "countries_dic"
      ]
    },
    {
      "cell_type": "code",
      "execution_count": 15,
      "metadata": {
        "id": "NUZh9vhPvvLQ"
      },
      "outputs": [],
      "source": [
        "train_set['Country']=[countries_dic[x] for x in train_set['Country']]"
      ]
    },
    {
      "cell_type": "code",
      "execution_count": 16,
      "metadata": {
        "colab": {
          "base_uri": "https://localhost:8080/"
        },
        "id": "j-OcZLjTvvLR",
        "outputId": "848bfce3-e657-4658-810d-2c1365d8516e"
      },
      "outputs": [
        {
          "output_type": "execute_result",
          "data": {
            "text/plain": [
              "array([ 0,  1,  2,  3,  4,  5,  6,  7,  8,  9, 10, 11, 12, 13, 14, 15, 16,\n",
              "       17, 18, 19, 20, 21, 22, 23, 24, 25, 26, 27, 28, 29, 30, 31, 32, 33,\n",
              "       34])"
            ]
          },
          "metadata": {},
          "execution_count": 16
        }
      ],
      "source": [
        "train_set['Country'].unique()"
      ]
    },
    {
      "cell_type": "code",
      "execution_count": 17,
      "metadata": {
        "colab": {
          "base_uri": "https://localhost:8080/",
          "height": 389
        },
        "id": "TD2ldFRRvvLR",
        "outputId": "01bcfa2a-9448-47de-9ad7-b5aa8c3d9769"
      },
      "outputs": [
        {
          "output_type": "execute_result",
          "data": {
            "text/plain": [
              "      InvoiceNo StockCode                      Description  Quantity  \\\n",
              "25281    538365     22469            HEART OF WICKER SMALL         8   \n",
              "25282    538365    84030E    ENGLISH ROSE HOT WATER BOTTLE         1   \n",
              "25283    538365     22112       CHOCOLATE HOT WATER BOTTLE         3   \n",
              "25284    538365     22835  HOT WATER BOTTLE I AM SO POORLY         5   \n",
              "25285    538365    84029E   RED WOOLLY HOTTIE WHITE HEART.         4   \n",
              "\n",
              "              InvoiceDate  UnitPrice  CustomerID  Country  isChurn  \n",
              "25281 2010-12-12 10:11:00       1.65     17243.0        0        1  \n",
              "25282 2010-12-12 10:11:00       4.25     17243.0        0        1  \n",
              "25283 2010-12-12 10:11:00       4.95     17243.0        0        1  \n",
              "25284 2010-12-12 10:11:00       4.65     17243.0        0        1  \n",
              "25285 2010-12-12 10:11:00       3.75     17243.0        0        1  "
            ],
            "text/html": [
              "\n",
              "  <div id=\"df-c2e26e5a-ff2a-4185-bb9b-4fa55e3a86b9\">\n",
              "    <div class=\"colab-df-container\">\n",
              "      <div>\n",
              "<style scoped>\n",
              "    .dataframe tbody tr th:only-of-type {\n",
              "        vertical-align: middle;\n",
              "    }\n",
              "\n",
              "    .dataframe tbody tr th {\n",
              "        vertical-align: top;\n",
              "    }\n",
              "\n",
              "    .dataframe thead th {\n",
              "        text-align: right;\n",
              "    }\n",
              "</style>\n",
              "<table border=\"1\" class=\"dataframe\">\n",
              "  <thead>\n",
              "    <tr style=\"text-align: right;\">\n",
              "      <th></th>\n",
              "      <th>InvoiceNo</th>\n",
              "      <th>StockCode</th>\n",
              "      <th>Description</th>\n",
              "      <th>Quantity</th>\n",
              "      <th>InvoiceDate</th>\n",
              "      <th>UnitPrice</th>\n",
              "      <th>CustomerID</th>\n",
              "      <th>Country</th>\n",
              "      <th>isChurn</th>\n",
              "    </tr>\n",
              "  </thead>\n",
              "  <tbody>\n",
              "    <tr>\n",
              "      <th>25281</th>\n",
              "      <td>538365</td>\n",
              "      <td>22469</td>\n",
              "      <td>HEART OF WICKER SMALL</td>\n",
              "      <td>8</td>\n",
              "      <td>2010-12-12 10:11:00</td>\n",
              "      <td>1.65</td>\n",
              "      <td>17243.0</td>\n",
              "      <td>0</td>\n",
              "      <td>1</td>\n",
              "    </tr>\n",
              "    <tr>\n",
              "      <th>25282</th>\n",
              "      <td>538365</td>\n",
              "      <td>84030E</td>\n",
              "      <td>ENGLISH ROSE HOT WATER BOTTLE</td>\n",
              "      <td>1</td>\n",
              "      <td>2010-12-12 10:11:00</td>\n",
              "      <td>4.25</td>\n",
              "      <td>17243.0</td>\n",
              "      <td>0</td>\n",
              "      <td>1</td>\n",
              "    </tr>\n",
              "    <tr>\n",
              "      <th>25283</th>\n",
              "      <td>538365</td>\n",
              "      <td>22112</td>\n",
              "      <td>CHOCOLATE HOT WATER BOTTLE</td>\n",
              "      <td>3</td>\n",
              "      <td>2010-12-12 10:11:00</td>\n",
              "      <td>4.95</td>\n",
              "      <td>17243.0</td>\n",
              "      <td>0</td>\n",
              "      <td>1</td>\n",
              "    </tr>\n",
              "    <tr>\n",
              "      <th>25284</th>\n",
              "      <td>538365</td>\n",
              "      <td>22835</td>\n",
              "      <td>HOT WATER BOTTLE I AM SO POORLY</td>\n",
              "      <td>5</td>\n",
              "      <td>2010-12-12 10:11:00</td>\n",
              "      <td>4.65</td>\n",
              "      <td>17243.0</td>\n",
              "      <td>0</td>\n",
              "      <td>1</td>\n",
              "    </tr>\n",
              "    <tr>\n",
              "      <th>25285</th>\n",
              "      <td>538365</td>\n",
              "      <td>84029E</td>\n",
              "      <td>RED WOOLLY HOTTIE WHITE HEART.</td>\n",
              "      <td>4</td>\n",
              "      <td>2010-12-12 10:11:00</td>\n",
              "      <td>3.75</td>\n",
              "      <td>17243.0</td>\n",
              "      <td>0</td>\n",
              "      <td>1</td>\n",
              "    </tr>\n",
              "  </tbody>\n",
              "</table>\n",
              "</div>\n",
              "      <button class=\"colab-df-convert\" onclick=\"convertToInteractive('df-c2e26e5a-ff2a-4185-bb9b-4fa55e3a86b9')\"\n",
              "              title=\"Convert this dataframe to an interactive table.\"\n",
              "              style=\"display:none;\">\n",
              "        \n",
              "  <svg xmlns=\"http://www.w3.org/2000/svg\" height=\"24px\"viewBox=\"0 0 24 24\"\n",
              "       width=\"24px\">\n",
              "    <path d=\"M0 0h24v24H0V0z\" fill=\"none\"/>\n",
              "    <path d=\"M18.56 5.44l.94 2.06.94-2.06 2.06-.94-2.06-.94-.94-2.06-.94 2.06-2.06.94zm-11 1L8.5 8.5l.94-2.06 2.06-.94-2.06-.94L8.5 2.5l-.94 2.06-2.06.94zm10 10l.94 2.06.94-2.06 2.06-.94-2.06-.94-.94-2.06-.94 2.06-2.06.94z\"/><path d=\"M17.41 7.96l-1.37-1.37c-.4-.4-.92-.59-1.43-.59-.52 0-1.04.2-1.43.59L10.3 9.45l-7.72 7.72c-.78.78-.78 2.05 0 2.83L4 21.41c.39.39.9.59 1.41.59.51 0 1.02-.2 1.41-.59l7.78-7.78 2.81-2.81c.8-.78.8-2.07 0-2.86zM5.41 20L4 18.59l7.72-7.72 1.47 1.35L5.41 20z\"/>\n",
              "  </svg>\n",
              "      </button>\n",
              "      \n",
              "  <style>\n",
              "    .colab-df-container {\n",
              "      display:flex;\n",
              "      flex-wrap:wrap;\n",
              "      gap: 12px;\n",
              "    }\n",
              "\n",
              "    .colab-df-convert {\n",
              "      background-color: #E8F0FE;\n",
              "      border: none;\n",
              "      border-radius: 50%;\n",
              "      cursor: pointer;\n",
              "      display: none;\n",
              "      fill: #1967D2;\n",
              "      height: 32px;\n",
              "      padding: 0 0 0 0;\n",
              "      width: 32px;\n",
              "    }\n",
              "\n",
              "    .colab-df-convert:hover {\n",
              "      background-color: #E2EBFA;\n",
              "      box-shadow: 0px 1px 2px rgba(60, 64, 67, 0.3), 0px 1px 3px 1px rgba(60, 64, 67, 0.15);\n",
              "      fill: #174EA6;\n",
              "    }\n",
              "\n",
              "    [theme=dark] .colab-df-convert {\n",
              "      background-color: #3B4455;\n",
              "      fill: #D2E3FC;\n",
              "    }\n",
              "\n",
              "    [theme=dark] .colab-df-convert:hover {\n",
              "      background-color: #434B5C;\n",
              "      box-shadow: 0px 1px 3px 1px rgba(0, 0, 0, 0.15);\n",
              "      filter: drop-shadow(0px 1px 2px rgba(0, 0, 0, 0.3));\n",
              "      fill: #FFFFFF;\n",
              "    }\n",
              "  </style>\n",
              "\n",
              "      <script>\n",
              "        const buttonEl =\n",
              "          document.querySelector('#df-c2e26e5a-ff2a-4185-bb9b-4fa55e3a86b9 button.colab-df-convert');\n",
              "        buttonEl.style.display =\n",
              "          google.colab.kernel.accessAllowed ? 'block' : 'none';\n",
              "\n",
              "        async function convertToInteractive(key) {\n",
              "          const element = document.querySelector('#df-c2e26e5a-ff2a-4185-bb9b-4fa55e3a86b9');\n",
              "          const dataTable =\n",
              "            await google.colab.kernel.invokeFunction('convertToInteractive',\n",
              "                                                     [key], {});\n",
              "          if (!dataTable) return;\n",
              "\n",
              "          const docLinkHtml = 'Like what you see? Visit the ' +\n",
              "            '<a target=\"_blank\" href=https://colab.research.google.com/notebooks/data_table.ipynb>data table notebook</a>'\n",
              "            + ' to learn more about interactive tables.';\n",
              "          element.innerHTML = '';\n",
              "          dataTable['output_type'] = 'display_data';\n",
              "          await google.colab.output.renderOutput(dataTable, element);\n",
              "          const docLink = document.createElement('div');\n",
              "          docLink.innerHTML = docLinkHtml;\n",
              "          element.appendChild(docLink);\n",
              "        }\n",
              "      </script>\n",
              "    </div>\n",
              "  </div>\n",
              "  "
            ]
          },
          "metadata": {},
          "execution_count": 17
        }
      ],
      "source": [
        "train_set.head()"
      ]
    },
    {
      "cell_type": "code",
      "execution_count": 18,
      "metadata": {
        "colab": {
          "base_uri": "https://localhost:8080/"
        },
        "id": "D-CFxSVFvvLS",
        "outputId": "48871efb-6de0-4498-c05e-8b6259f5e0f0"
      },
      "outputs": [
        {
          "output_type": "execute_result",
          "data": {
            "text/plain": [
              "InvoiceNo      242032\n",
              "StockCode      242032\n",
              "Description    242032\n",
              "Quantity       242032\n",
              "InvoiceDate    242032\n",
              "UnitPrice      242032\n",
              "CustomerID     242032\n",
              "Country        242032\n",
              "isChurn        242032\n",
              "dtype: int64"
            ]
          },
          "metadata": {},
          "execution_count": 18
        }
      ],
      "source": [
        "train_set.count()"
      ]
    },
    {
      "cell_type": "code",
      "execution_count": 19,
      "metadata": {
        "colab": {
          "base_uri": "https://localhost:8080/"
        },
        "id": "s0f8NzPWvvLT",
        "outputId": "5ff97046-e256-4f05-8727-71574c2ebb8f"
      },
      "outputs": [
        {
          "output_type": "execute_result",
          "data": {
            "text/plain": [
              "Index(['InvoiceNo', 'StockCode', 'Description', 'Quantity', 'InvoiceDate',\n",
              "       'UnitPrice', 'CustomerID', 'Country', 'isChurn'],\n",
              "      dtype='object')"
            ]
          },
          "metadata": {},
          "execution_count": 19
        }
      ],
      "source": [
        "train_set.columns"
      ]
    },
    {
      "cell_type": "code",
      "execution_count": 20,
      "metadata": {
        "colab": {
          "base_uri": "https://localhost:8080/"
        },
        "id": "SX8olmwPvvLU",
        "outputId": "a8ce395d-e4ee-4ad4-b4d9-9a2cd58a311c"
      },
      "outputs": [
        {
          "output_type": "execute_result",
          "data": {
            "text/plain": [
              "3574"
            ]
          },
          "metadata": {},
          "execution_count": 20
        }
      ],
      "source": [
        "len(train_set['StockCode'].unique())"
      ]
    },
    {
      "cell_type": "code",
      "execution_count": 21,
      "metadata": {
        "id": "bc8vojrtvvLU"
      },
      "outputs": [],
      "source": [
        "train_set=train_set.drop(['Description'],axis=1)"
      ]
    },
    {
      "cell_type": "code",
      "execution_count": 22,
      "metadata": {
        "colab": {
          "base_uri": "https://localhost:8080/"
        },
        "id": "0kqCWufgvvLV",
        "outputId": "d8a17629-02e2-4f2e-a96d-18d93337990f"
      },
      "outputs": [
        {
          "output_type": "stream",
          "name": "stderr",
          "text": [
            "/usr/local/lib/python3.7/dist-packages/ipykernel_launcher.py:4: FutureWarning: The default value of regex will change from True to False in a future version.\n",
            "  after removing the cwd from sys.path.\n"
          ]
        }
      ],
      "source": [
        "train_set['StockCode']=train_set['StockCode'].str.replace('\\D', '')    "
      ]
    },
    {
      "cell_type": "code",
      "execution_count": 23,
      "metadata": {
        "id": "-3UJi5AavvLW"
      },
      "outputs": [],
      "source": [
        "train_set=train_set[train_set['StockCode']!='']"
      ]
    },
    {
      "cell_type": "code",
      "execution_count": 24,
      "metadata": {
        "colab": {
          "base_uri": "https://localhost:8080/"
        },
        "id": "Ny3KwgpfvvLW",
        "outputId": "b418dca3-60bc-4e72-d8da-16bd852237cf"
      },
      "outputs": [
        {
          "output_type": "stream",
          "name": "stderr",
          "text": [
            "/usr/local/lib/python3.7/dist-packages/ipykernel_launcher.py:1: SettingWithCopyWarning: \n",
            "A value is trying to be set on a copy of a slice from a DataFrame.\n",
            "Try using .loc[row_indexer,col_indexer] = value instead\n",
            "\n",
            "See the caveats in the documentation: https://pandas.pydata.org/pandas-docs/stable/user_guide/indexing.html#returning-a-view-versus-a-copy\n",
            "  \"\"\"Entry point for launching an IPython kernel.\n"
          ]
        }
      ],
      "source": [
        "train_set['StockCode']=train_set['StockCode'].astype(int)"
      ]
    },
    {
      "cell_type": "code",
      "execution_count": 25,
      "metadata": {
        "colab": {
          "base_uri": "https://localhost:8080/",
          "height": 424
        },
        "id": "bmVm2f4BvvLX",
        "outputId": "d5e49527-0259-4089-a30b-2c8531bbc6a8"
      },
      "outputs": [
        {
          "output_type": "execute_result",
          "data": {
            "text/plain": [
              "       InvoiceNo  StockCode  Quantity         InvoiceDate  UnitPrice  \\\n",
              "25281     538365      22469         8 2010-12-12 10:11:00       1.65   \n",
              "25282     538365      84030         1 2010-12-12 10:11:00       4.25   \n",
              "25283     538365      22112         3 2010-12-12 10:11:00       4.95   \n",
              "25284     538365      22835         5 2010-12-12 10:11:00       4.65   \n",
              "25285     538365      84029         4 2010-12-12 10:11:00       3.75   \n",
              "...          ...        ...       ...                 ...        ...   \n",
              "540272    581474      21253         1 2011-08-12 20:01:00       0.79   \n",
              "540273    581474      22108         1 2011-08-12 20:01:00       1.25   \n",
              "540274    581474      22167         1 2011-08-12 20:01:00       9.95   \n",
              "540275    581474      21929         1 2011-08-12 20:01:00       2.08   \n",
              "540276    581474      20717         1 2011-08-12 20:01:00       1.25   \n",
              "\n",
              "        CustomerID  Country  isChurn  \n",
              "25281      17243.0        0        1  \n",
              "25282      17243.0        0        1  \n",
              "25283      17243.0        0        1  \n",
              "25284      17243.0        0        1  \n",
              "25285      17243.0        0        1  \n",
              "...            ...      ...      ...  \n",
              "540272     12748.0        0        1  \n",
              "540273     12748.0        0        1  \n",
              "540274     12748.0        0        1  \n",
              "540275     12748.0        0        1  \n",
              "540276     12748.0        0        1  \n",
              "\n",
              "[240977 rows x 8 columns]"
            ],
            "text/html": [
              "\n",
              "  <div id=\"df-074946f4-7506-4549-8dc3-db8440164aa4\">\n",
              "    <div class=\"colab-df-container\">\n",
              "      <div>\n",
              "<style scoped>\n",
              "    .dataframe tbody tr th:only-of-type {\n",
              "        vertical-align: middle;\n",
              "    }\n",
              "\n",
              "    .dataframe tbody tr th {\n",
              "        vertical-align: top;\n",
              "    }\n",
              "\n",
              "    .dataframe thead th {\n",
              "        text-align: right;\n",
              "    }\n",
              "</style>\n",
              "<table border=\"1\" class=\"dataframe\">\n",
              "  <thead>\n",
              "    <tr style=\"text-align: right;\">\n",
              "      <th></th>\n",
              "      <th>InvoiceNo</th>\n",
              "      <th>StockCode</th>\n",
              "      <th>Quantity</th>\n",
              "      <th>InvoiceDate</th>\n",
              "      <th>UnitPrice</th>\n",
              "      <th>CustomerID</th>\n",
              "      <th>Country</th>\n",
              "      <th>isChurn</th>\n",
              "    </tr>\n",
              "  </thead>\n",
              "  <tbody>\n",
              "    <tr>\n",
              "      <th>25281</th>\n",
              "      <td>538365</td>\n",
              "      <td>22469</td>\n",
              "      <td>8</td>\n",
              "      <td>2010-12-12 10:11:00</td>\n",
              "      <td>1.65</td>\n",
              "      <td>17243.0</td>\n",
              "      <td>0</td>\n",
              "      <td>1</td>\n",
              "    </tr>\n",
              "    <tr>\n",
              "      <th>25282</th>\n",
              "      <td>538365</td>\n",
              "      <td>84030</td>\n",
              "      <td>1</td>\n",
              "      <td>2010-12-12 10:11:00</td>\n",
              "      <td>4.25</td>\n",
              "      <td>17243.0</td>\n",
              "      <td>0</td>\n",
              "      <td>1</td>\n",
              "    </tr>\n",
              "    <tr>\n",
              "      <th>25283</th>\n",
              "      <td>538365</td>\n",
              "      <td>22112</td>\n",
              "      <td>3</td>\n",
              "      <td>2010-12-12 10:11:00</td>\n",
              "      <td>4.95</td>\n",
              "      <td>17243.0</td>\n",
              "      <td>0</td>\n",
              "      <td>1</td>\n",
              "    </tr>\n",
              "    <tr>\n",
              "      <th>25284</th>\n",
              "      <td>538365</td>\n",
              "      <td>22835</td>\n",
              "      <td>5</td>\n",
              "      <td>2010-12-12 10:11:00</td>\n",
              "      <td>4.65</td>\n",
              "      <td>17243.0</td>\n",
              "      <td>0</td>\n",
              "      <td>1</td>\n",
              "    </tr>\n",
              "    <tr>\n",
              "      <th>25285</th>\n",
              "      <td>538365</td>\n",
              "      <td>84029</td>\n",
              "      <td>4</td>\n",
              "      <td>2010-12-12 10:11:00</td>\n",
              "      <td>3.75</td>\n",
              "      <td>17243.0</td>\n",
              "      <td>0</td>\n",
              "      <td>1</td>\n",
              "    </tr>\n",
              "    <tr>\n",
              "      <th>...</th>\n",
              "      <td>...</td>\n",
              "      <td>...</td>\n",
              "      <td>...</td>\n",
              "      <td>...</td>\n",
              "      <td>...</td>\n",
              "      <td>...</td>\n",
              "      <td>...</td>\n",
              "      <td>...</td>\n",
              "    </tr>\n",
              "    <tr>\n",
              "      <th>540272</th>\n",
              "      <td>581474</td>\n",
              "      <td>21253</td>\n",
              "      <td>1</td>\n",
              "      <td>2011-08-12 20:01:00</td>\n",
              "      <td>0.79</td>\n",
              "      <td>12748.0</td>\n",
              "      <td>0</td>\n",
              "      <td>1</td>\n",
              "    </tr>\n",
              "    <tr>\n",
              "      <th>540273</th>\n",
              "      <td>581474</td>\n",
              "      <td>22108</td>\n",
              "      <td>1</td>\n",
              "      <td>2011-08-12 20:01:00</td>\n",
              "      <td>1.25</td>\n",
              "      <td>12748.0</td>\n",
              "      <td>0</td>\n",
              "      <td>1</td>\n",
              "    </tr>\n",
              "    <tr>\n",
              "      <th>540274</th>\n",
              "      <td>581474</td>\n",
              "      <td>22167</td>\n",
              "      <td>1</td>\n",
              "      <td>2011-08-12 20:01:00</td>\n",
              "      <td>9.95</td>\n",
              "      <td>12748.0</td>\n",
              "      <td>0</td>\n",
              "      <td>1</td>\n",
              "    </tr>\n",
              "    <tr>\n",
              "      <th>540275</th>\n",
              "      <td>581474</td>\n",
              "      <td>21929</td>\n",
              "      <td>1</td>\n",
              "      <td>2011-08-12 20:01:00</td>\n",
              "      <td>2.08</td>\n",
              "      <td>12748.0</td>\n",
              "      <td>0</td>\n",
              "      <td>1</td>\n",
              "    </tr>\n",
              "    <tr>\n",
              "      <th>540276</th>\n",
              "      <td>581474</td>\n",
              "      <td>20717</td>\n",
              "      <td>1</td>\n",
              "      <td>2011-08-12 20:01:00</td>\n",
              "      <td>1.25</td>\n",
              "      <td>12748.0</td>\n",
              "      <td>0</td>\n",
              "      <td>1</td>\n",
              "    </tr>\n",
              "  </tbody>\n",
              "</table>\n",
              "<p>240977 rows × 8 columns</p>\n",
              "</div>\n",
              "      <button class=\"colab-df-convert\" onclick=\"convertToInteractive('df-074946f4-7506-4549-8dc3-db8440164aa4')\"\n",
              "              title=\"Convert this dataframe to an interactive table.\"\n",
              "              style=\"display:none;\">\n",
              "        \n",
              "  <svg xmlns=\"http://www.w3.org/2000/svg\" height=\"24px\"viewBox=\"0 0 24 24\"\n",
              "       width=\"24px\">\n",
              "    <path d=\"M0 0h24v24H0V0z\" fill=\"none\"/>\n",
              "    <path d=\"M18.56 5.44l.94 2.06.94-2.06 2.06-.94-2.06-.94-.94-2.06-.94 2.06-2.06.94zm-11 1L8.5 8.5l.94-2.06 2.06-.94-2.06-.94L8.5 2.5l-.94 2.06-2.06.94zm10 10l.94 2.06.94-2.06 2.06-.94-2.06-.94-.94-2.06-.94 2.06-2.06.94z\"/><path d=\"M17.41 7.96l-1.37-1.37c-.4-.4-.92-.59-1.43-.59-.52 0-1.04.2-1.43.59L10.3 9.45l-7.72 7.72c-.78.78-.78 2.05 0 2.83L4 21.41c.39.39.9.59 1.41.59.51 0 1.02-.2 1.41-.59l7.78-7.78 2.81-2.81c.8-.78.8-2.07 0-2.86zM5.41 20L4 18.59l7.72-7.72 1.47 1.35L5.41 20z\"/>\n",
              "  </svg>\n",
              "      </button>\n",
              "      \n",
              "  <style>\n",
              "    .colab-df-container {\n",
              "      display:flex;\n",
              "      flex-wrap:wrap;\n",
              "      gap: 12px;\n",
              "    }\n",
              "\n",
              "    .colab-df-convert {\n",
              "      background-color: #E8F0FE;\n",
              "      border: none;\n",
              "      border-radius: 50%;\n",
              "      cursor: pointer;\n",
              "      display: none;\n",
              "      fill: #1967D2;\n",
              "      height: 32px;\n",
              "      padding: 0 0 0 0;\n",
              "      width: 32px;\n",
              "    }\n",
              "\n",
              "    .colab-df-convert:hover {\n",
              "      background-color: #E2EBFA;\n",
              "      box-shadow: 0px 1px 2px rgba(60, 64, 67, 0.3), 0px 1px 3px 1px rgba(60, 64, 67, 0.15);\n",
              "      fill: #174EA6;\n",
              "    }\n",
              "\n",
              "    [theme=dark] .colab-df-convert {\n",
              "      background-color: #3B4455;\n",
              "      fill: #D2E3FC;\n",
              "    }\n",
              "\n",
              "    [theme=dark] .colab-df-convert:hover {\n",
              "      background-color: #434B5C;\n",
              "      box-shadow: 0px 1px 3px 1px rgba(0, 0, 0, 0.15);\n",
              "      filter: drop-shadow(0px 1px 2px rgba(0, 0, 0, 0.3));\n",
              "      fill: #FFFFFF;\n",
              "    }\n",
              "  </style>\n",
              "\n",
              "      <script>\n",
              "        const buttonEl =\n",
              "          document.querySelector('#df-074946f4-7506-4549-8dc3-db8440164aa4 button.colab-df-convert');\n",
              "        buttonEl.style.display =\n",
              "          google.colab.kernel.accessAllowed ? 'block' : 'none';\n",
              "\n",
              "        async function convertToInteractive(key) {\n",
              "          const element = document.querySelector('#df-074946f4-7506-4549-8dc3-db8440164aa4');\n",
              "          const dataTable =\n",
              "            await google.colab.kernel.invokeFunction('convertToInteractive',\n",
              "                                                     [key], {});\n",
              "          if (!dataTable) return;\n",
              "\n",
              "          const docLinkHtml = 'Like what you see? Visit the ' +\n",
              "            '<a target=\"_blank\" href=https://colab.research.google.com/notebooks/data_table.ipynb>data table notebook</a>'\n",
              "            + ' to learn more about interactive tables.';\n",
              "          element.innerHTML = '';\n",
              "          dataTable['output_type'] = 'display_data';\n",
              "          await google.colab.output.renderOutput(dataTable, element);\n",
              "          const docLink = document.createElement('div');\n",
              "          docLink.innerHTML = docLinkHtml;\n",
              "          element.appendChild(docLink);\n",
              "        }\n",
              "      </script>\n",
              "    </div>\n",
              "  </div>\n",
              "  "
            ]
          },
          "metadata": {},
          "execution_count": 25
        }
      ],
      "source": [
        "train_set"
      ]
    },
    {
      "cell_type": "code",
      "execution_count": 26,
      "metadata": {
        "id": "TvseekmNvvLY"
      },
      "outputs": [],
      "source": [
        "train_set['CustomerID']=train_set['CustomerID'].astype(int)\n",
        "train_set=train_set.drop(['InvoiceNo'],axis=1)"
      ]
    },
    {
      "cell_type": "code",
      "execution_count": 27,
      "metadata": {
        "id": "DWGI4sRfvvLZ"
      },
      "outputs": [],
      "source": [
        "train_set['month']=train_set['InvoiceDate'].dt.month.astype(int)\n",
        "train_set['year']=train_set['InvoiceDate'].dt.year.astype(int)\n",
        "train_set['day']=train_set['InvoiceDate'].dt.day.astype(int)\n",
        "train_set['hour']=train_set['InvoiceDate'].dt.hour.astype(int)\n",
        "\n",
        "train_set=train_set.drop(['InvoiceDate'],axis=1)"
      ]
    },
    {
      "cell_type": "code",
      "execution_count": 28,
      "metadata": {
        "colab": {
          "base_uri": "https://localhost:8080/"
        },
        "id": "pEdXWhlHvvLa",
        "outputId": "a0208eb3-1b93-4f05-957f-29e877bce9d4"
      },
      "outputs": [
        {
          "output_type": "execute_result",
          "data": {
            "text/plain": [
              "Index(['StockCode', 'Quantity', 'UnitPrice', 'CustomerID', 'Country',\n",
              "       'isChurn', 'month', 'year', 'day', 'hour'],\n",
              "      dtype='object')"
            ]
          },
          "metadata": {},
          "execution_count": 28
        }
      ],
      "source": [
        "train_set.columns"
      ]
    },
    {
      "cell_type": "code",
      "execution_count": 29,
      "metadata": {
        "colab": {
          "base_uri": "https://localhost:8080/",
          "height": 1000
        },
        "id": "KfzT5OyAvvLb",
        "outputId": "b74277a2-580e-493c-b7f0-1167b65fb551"
      },
      "outputs": [
        {
          "output_type": "execute_result",
          "data": {
            "text/plain": [
              "<seaborn.axisgrid.JointGrid at 0x7f960496acd0>"
            ]
          },
          "metadata": {},
          "execution_count": 29
        },
        {
          "output_type": "display_data",
          "data": {
            "text/plain": [
              "<Figure size 432x432 with 3 Axes>"
            ],
            "image/png": "[encoded data removed]"
          },
          "metadata": {
            "needs_background": "light"
          }
        },
        {
          "output_type": "display_data",
          "data": {
            "text/plain": [
              "<Figure size 432x432 with 3 Axes>"
            ],
            "image/png": "[encoded data removed]"
          },
          "metadata": {
            "needs_background": "light"
          }
        },
        {
          "output_type": "display_data",
          "data": {
            "text/plain": [
              "<Figure size 432x432 with 3 Axes>"
            ],
            "image/png": "[encoded data removed]"
          },
          "metadata": {
            "needs_background": "light"
          }
        },
        {
          "output_type": "display_data",
          "data": {
            "text/plain": [
              "<Figure size 432x432 with 3 Axes>"
            ],
            "image/png": "[encoded data removed]"
          },
          "metadata": {
            "needs_background": "light"
          }
        },
        {
          "output_type": "display_data",
          "data": {
            "text/plain": [
              "<Figure size 432x432 with 3 Axes>"
            ],
            "image/png": "[encoded data removed]"
          },
          "metadata": {
            "needs_background": "light"
          }
        },
        {
          "output_type": "display_data",
          "data": {
            "text/plain": [
              "<Figure size 432x432 with 3 Axes>"
            ],
            "image/png": "[encoded data removed]"
          },
          "metadata": {
            "needs_background": "light"
          }
        },
        {
          "output_type": "display_data",
          "data": {
            "text/plain": [
              "<Figure size 432x432 with 3 Axes>"
            ],
            "image/png": "[encoded data removed]"
          },
          "metadata": {
            "needs_background": "light"
          }
        },
        {
          "output_type": "display_data",
          "data": {
            "text/plain": [
              "<Figure size 432x432 with 3 Axes>"
            ],
            "image/png": "[encoded data removed]"
          },
          "metadata": {
            "needs_background": "light"
          }
        },
        {
          "output_type": "display_data",
          "data": {
            "text/plain": [
              "<Figure size 432x432 with 3 Axes>"
            ],
            "image/png": "[encoded data removed]"
          },
          "metadata": {
            "needs_background": "light"
          }
        }
      ],
      "source": [
        "sns.jointplot(data=train_set, x='Country', y='isChurn', kind='reg', color='g')\n",
        "sns.jointplot(data=train_set, x='StockCode', y='isChurn', kind='reg', color='g')\n",
        "sns.jointplot(data=train_set, x='month', y='isChurn', kind='reg', color='g')\n",
        "sns.jointplot(data=train_set, x='year', y='isChurn', kind='reg', color='g')\n",
        "sns.jointplot(data=train_set, x='day', y='isChurn', kind='reg', color='g')\n",
        "sns.jointplot(data=train_set, x='hour', y='isChurn', kind='reg', color='g')\n",
        "sns.jointplot(data=train_set, x='UnitPrice', y='isChurn', kind='reg', color='g')\n",
        "sns.jointplot(data=train_set, x='CustomerID', y='isChurn', kind='reg', color='g')\n",
        "sns.jointplot(data=train_set, x='Quantity', y='isChurn', kind='reg', color='g')"
      ]
    },
    {
      "cell_type": "code",
      "execution_count": 30,
      "metadata": {
        "colab": {
          "base_uri": "https://localhost:8080/",
          "height": 335
        },
        "id": "q4kVfVd4vvLc",
        "outputId": "8b778686-09b8-433c-d863-9dfe4da3fc79"
      },
      "outputs": [
        {
          "output_type": "execute_result",
          "data": {
            "text/plain": [
              "<matplotlib.axes._subplots.AxesSubplot at 0x7f94bd73a710>"
            ]
          },
          "metadata": {},
          "execution_count": 30
        },
        {
          "output_type": "display_data",
          "data": {
            "text/plain": [
              "<Figure size 432x288 with 2 Axes>"
            ],
            "image/png": "[encoded data removed]"
          },
          "metadata": {
            "needs_background": "light"
          }
        }
      ],
      "source": [
        "sns.heatmap(train_set.corr())"
      ]
    },
    {
      "cell_type": "code",
      "execution_count": 31,
      "metadata": {
        "colab": {
          "base_uri": "https://localhost:8080/",
          "height": 424
        },
        "id": "VoXkTwIpvvLd",
        "outputId": "f3525710-1b54-445c-8d5f-2a6a2e279f31"
      },
      "outputs": [
        {
          "output_type": "execute_result",
          "data": {
            "text/plain": [
              "        StockCode  Quantity  UnitPrice  CustomerID  Country  isChurn  \\\n",
              "25281    0.249047 -0.020775  -0.291463    0.824272      0.0        1   \n",
              "25282    0.931450 -0.052812   0.295214    0.824272      0.0        1   \n",
              "25283    0.245089 -0.043658   0.453166    0.824272      0.0        1   \n",
              "25284    0.253104 -0.034505   0.385472    0.824272      0.0        1   \n",
              "25285    0.931439 -0.039082   0.182392    0.824272      0.0        1   \n",
              "...           ...       ...        ...         ...      ...      ...   \n",
              "540272   0.235567 -0.052812  -0.485518    0.067665      0.0        1   \n",
              "540273   0.245045 -0.052812  -0.381721    0.067665      0.0        1   \n",
              "540274   0.245699 -0.052812   1.581391    0.067665      0.0        1   \n",
              "540275   0.243061 -0.052812  -0.194436    0.067665      0.0        1   \n",
              "540276   0.229626 -0.052812  -0.381721    0.067665      0.0        1   \n",
              "\n",
              "           month       day      hour  \n",
              "25281   2.623536 -0.387228 -1.158925  \n",
              "25282   2.623536 -0.387228 -1.158925  \n",
              "25283   2.623536 -0.387228 -1.158925  \n",
              "25284   2.623536 -0.387228 -1.158925  \n",
              "25285   2.623536 -0.387228 -1.158925  \n",
              "...          ...       ...       ...  \n",
              "540272  1.119611 -0.387228  3.167983  \n",
              "540273  1.119611 -0.387228  3.167983  \n",
              "540274  1.119611 -0.387228  3.167983  \n",
              "540275  1.119611 -0.387228  3.167983  \n",
              "540276  1.119611 -0.387228  3.167983  \n",
              "\n",
              "[240977 rows x 9 columns]"
            ],
            "text/html": [
              "\n",
              "  <div id=\"df-6811be17-b24f-4524-918b-9abe93b5b20e\">\n",
              "    <div class=\"colab-df-container\">\n",
              "      <div>\n",
              "<style scoped>\n",
              "    .dataframe tbody tr th:only-of-type {\n",
              "        vertical-align: middle;\n",
              "    }\n",
              "\n",
              "    .dataframe tbody tr th {\n",
              "        vertical-align: top;\n",
              "    }\n",
              "\n",
              "    .dataframe thead th {\n",
              "        text-align: right;\n",
              "    }\n",
              "</style>\n",
              "<table border=\"1\" class=\"dataframe\">\n",
              "  <thead>\n",
              "    <tr style=\"text-align: right;\">\n",
              "      <th></th>\n",
              "      <th>StockCode</th>\n",
              "      <th>Quantity</th>\n",
              "      <th>UnitPrice</th>\n",
              "      <th>CustomerID</th>\n",
              "      <th>Country</th>\n",
              "      <th>isChurn</th>\n",
              "      <th>month</th>\n",
              "      <th>day</th>\n",
              "      <th>hour</th>\n",
              "    </tr>\n",
              "  </thead>\n",
              "  <tbody>\n",
              "    <tr>\n",
              "      <th>25281</th>\n",
              "      <td>0.249047</td>\n",
              "      <td>-0.020775</td>\n",
              "      <td>-0.291463</td>\n",
              "      <td>0.824272</td>\n",
              "      <td>0.0</td>\n",
              "      <td>1</td>\n",
              "      <td>2.623536</td>\n",
              "      <td>-0.387228</td>\n",
              "      <td>-1.158925</td>\n",
              "    </tr>\n",
              "    <tr>\n",
              "      <th>25282</th>\n",
              "      <td>0.931450</td>\n",
              "      <td>-0.052812</td>\n",
              "      <td>0.295214</td>\n",
              "      <td>0.824272</td>\n",
              "      <td>0.0</td>\n",
              "      <td>1</td>\n",
              "      <td>2.623536</td>\n",
              "      <td>-0.387228</td>\n",
              "      <td>-1.158925</td>\n",
              "    </tr>\n",
              "    <tr>\n",
              "      <th>25283</th>\n",
              "      <td>0.245089</td>\n",
              "      <td>-0.043658</td>\n",
              "      <td>0.453166</td>\n",
              "      <td>0.824272</td>\n",
              "      <td>0.0</td>\n",
              "      <td>1</td>\n",
              "      <td>2.623536</td>\n",
              "      <td>-0.387228</td>\n",
              "      <td>-1.158925</td>\n",
              "    </tr>\n",
              "    <tr>\n",
              "      <th>25284</th>\n",
              "      <td>0.253104</td>\n",
              "      <td>-0.034505</td>\n",
              "      <td>0.385472</td>\n",
              "      <td>0.824272</td>\n",
              "      <td>0.0</td>\n",
              "      <td>1</td>\n",
              "      <td>2.623536</td>\n",
              "      <td>-0.387228</td>\n",
              "      <td>-1.158925</td>\n",
              "    </tr>\n",
              "    <tr>\n",
              "      <th>25285</th>\n",
              "      <td>0.931439</td>\n",
              "      <td>-0.039082</td>\n",
              "      <td>0.182392</td>\n",
              "      <td>0.824272</td>\n",
              "      <td>0.0</td>\n",
              "      <td>1</td>\n",
              "      <td>2.623536</td>\n",
              "      <td>-0.387228</td>\n",
              "      <td>-1.158925</td>\n",
              "    </tr>\n",
              "    <tr>\n",
              "      <th>...</th>\n",
              "      <td>...</td>\n",
              "      <td>...</td>\n",
              "      <td>...</td>\n",
              "      <td>...</td>\n",
              "      <td>...</td>\n",
              "      <td>...</td>\n",
              "      <td>...</td>\n",
              "      <td>...</td>\n",
              "      <td>...</td>\n",
              "    </tr>\n",
              "    <tr>\n",
              "      <th>540272</th>\n",
              "      <td>0.235567</td>\n",
              "      <td>-0.052812</td>\n",
              "      <td>-0.485518</td>\n",
              "      <td>0.067665</td>\n",
              "      <td>0.0</td>\n",
              "      <td>1</td>\n",
              "      <td>1.119611</td>\n",
              "      <td>-0.387228</td>\n",
              "      <td>3.167983</td>\n",
              "    </tr>\n",
              "    <tr>\n",
              "      <th>540273</th>\n",
              "      <td>0.245045</td>\n",
              "      <td>-0.052812</td>\n",
              "      <td>-0.381721</td>\n",
              "      <td>0.067665</td>\n",
              "      <td>0.0</td>\n",
              "      <td>1</td>\n",
              "      <td>1.119611</td>\n",
              "      <td>-0.387228</td>\n",
              "      <td>3.167983</td>\n",
              "    </tr>\n",
              "    <tr>\n",
              "      <th>540274</th>\n",
              "      <td>0.245699</td>\n",
              "      <td>-0.052812</td>\n",
              "      <td>1.581391</td>\n",
              "      <td>0.067665</td>\n",
              "      <td>0.0</td>\n",
              "      <td>1</td>\n",
              "      <td>1.119611</td>\n",
              "      <td>-0.387228</td>\n",
              "      <td>3.167983</td>\n",
              "    </tr>\n",
              "    <tr>\n",
              "      <th>540275</th>\n",
              "      <td>0.243061</td>\n",
              "      <td>-0.052812</td>\n",
              "      <td>-0.194436</td>\n",
              "      <td>0.067665</td>\n",
              "      <td>0.0</td>\n",
              "      <td>1</td>\n",
              "      <td>1.119611</td>\n",
              "      <td>-0.387228</td>\n",
              "      <td>3.167983</td>\n",
              "    </tr>\n",
              "    <tr>\n",
              "      <th>540276</th>\n",
              "      <td>0.229626</td>\n",
              "      <td>-0.052812</td>\n",
              "      <td>-0.381721</td>\n",
              "      <td>0.067665</td>\n",
              "      <td>0.0</td>\n",
              "      <td>1</td>\n",
              "      <td>1.119611</td>\n",
              "      <td>-0.387228</td>\n",
              "      <td>3.167983</td>\n",
              "    </tr>\n",
              "  </tbody>\n",
              "</table>\n",
              "<p>240977 rows × 9 columns</p>\n",
              "</div>\n",
              "      <button class=\"colab-df-convert\" onclick=\"convertToInteractive('df-6811be17-b24f-4524-918b-9abe93b5b20e')\"\n",
              "              title=\"Convert this dataframe to an interactive table.\"\n",
              "              style=\"display:none;\">\n",
              "        \n",
              "  <svg xmlns=\"http://www.w3.org/2000/svg\" height=\"24px\"viewBox=\"0 0 24 24\"\n",
              "       width=\"24px\">\n",
              "    <path d=\"M0 0h24v24H0V0z\" fill=\"none\"/>\n",
              "    <path d=\"M18.56 5.44l.94 2.06.94-2.06 2.06-.94-2.06-.94-.94-2.06-.94 2.06-2.06.94zm-11 1L8.5 8.5l.94-2.06 2.06-.94-2.06-.94L8.5 2.5l-.94 2.06-2.06.94zm10 10l.94 2.06.94-2.06 2.06-.94-2.06-.94-.94-2.06-.94 2.06-2.06.94z\"/><path d=\"M17.41 7.96l-1.37-1.37c-.4-.4-.92-.59-1.43-.59-.52 0-1.04.2-1.43.59L10.3 9.45l-7.72 7.72c-.78.78-.78 2.05 0 2.83L4 21.41c.39.39.9.59 1.41.59.51 0 1.02-.2 1.41-.59l7.78-7.78 2.81-2.81c.8-.78.8-2.07 0-2.86zM5.41 20L4 18.59l7.72-7.72 1.47 1.35L5.41 20z\"/>\n",
              "  </svg>\n",
              "      </button>\n",
              "      \n",
              "  <style>\n",
              "    .colab-df-container {\n",
              "      display:flex;\n",
              "      flex-wrap:wrap;\n",
              "      gap: 12px;\n",
              "    }\n",
              "\n",
              "    .colab-df-convert {\n",
              "      background-color: #E8F0FE;\n",
              "      border: none;\n",
              "      border-radius: 50%;\n",
              "      cursor: pointer;\n",
              "      display: none;\n",
              "      fill: #1967D2;\n",
              "      height: 32px;\n",
              "      padding: 0 0 0 0;\n",
              "      width: 32px;\n",
              "    }\n",
              "\n",
              "    .colab-df-convert:hover {\n",
              "      background-color: #E2EBFA;\n",
              "      box-shadow: 0px 1px 2px rgba(60, 64, 67, 0.3), 0px 1px 3px 1px rgba(60, 64, 67, 0.15);\n",
              "      fill: #174EA6;\n",
              "    }\n",
              "\n",
              "    [theme=dark] .colab-df-convert {\n",
              "      background-color: #3B4455;\n",
              "      fill: #D2E3FC;\n",
              "    }\n",
              "\n",
              "    [theme=dark] .colab-df-convert:hover {\n",
              "      background-color: #434B5C;\n",
              "      box-shadow: 0px 1px 3px 1px rgba(0, 0, 0, 0.15);\n",
              "      filter: drop-shadow(0px 1px 2px rgba(0, 0, 0, 0.3));\n",
              "      fill: #FFFFFF;\n",
              "    }\n",
              "  </style>\n",
              "\n",
              "      <script>\n",
              "        const buttonEl =\n",
              "          document.querySelector('#df-6811be17-b24f-4524-918b-9abe93b5b20e button.colab-df-convert');\n",
              "        buttonEl.style.display =\n",
              "          google.colab.kernel.accessAllowed ? 'block' : 'none';\n",
              "\n",
              "        async function convertToInteractive(key) {\n",
              "          const element = document.querySelector('#df-6811be17-b24f-4524-918b-9abe93b5b20e');\n",
              "          const dataTable =\n",
              "            await google.colab.kernel.invokeFunction('convertToInteractive',\n",
              "                                                     [key], {});\n",
              "          if (!dataTable) return;\n",
              "\n",
              "          const docLinkHtml = 'Like what you see? Visit the ' +\n",
              "            '<a target=\"_blank\" href=https://colab.research.google.com/notebooks/data_table.ipynb>data table notebook</a>'\n",
              "            + ' to learn more about interactive tables.';\n",
              "          element.innerHTML = '';\n",
              "          dataTable['output_type'] = 'display_data';\n",
              "          await google.colab.output.renderOutput(dataTable, element);\n",
              "          const docLink = document.createElement('div');\n",
              "          docLink.innerHTML = docLinkHtml;\n",
              "          element.appendChild(docLink);\n",
              "        }\n",
              "      </script>\n",
              "    </div>\n",
              "  </div>\n",
              "  "
            ]
          },
          "metadata": {},
          "execution_count": 31
        }
      ],
      "source": [
        "from hmac import trans_36\n",
        "from sklearn.preprocessing import StandardScaler,MinMaxScaler\n",
        "scaler1=StandardScaler()\n",
        "scaler2=MinMaxScaler()\n",
        "\n",
        "train_set['StockCode']=scaler2.fit_transform(train_set[['StockCode']])\n",
        "train_set['CustomerID']=scaler2.fit_transform(train_set[['CustomerID']])\n",
        "train_set['Country']=scaler2.fit_transform(train_set[['Country']])\n",
        "train_set['Quantity']=scaler1.fit_transform(train_set[['Quantity']])\n",
        "train_set['UnitPrice']=scaler1.fit_transform(train_set[['UnitPrice']])\n",
        "train_set['month']=scaler1.fit_transform(train_set[['month']])\n",
        "train_set['year']=scaler1.fit_transform(train_set[['year']])\n",
        "train_set['day']=scaler1.fit_transform(train_set[['day']])\n",
        "train_set['hour']=scaler1.fit_transform(train_set[['hour']])\n",
        "\n",
        "train_set=train_set.drop(['year'],axis=1)\n",
        "train_set"
      ]
    },
    {
      "cell_type": "code",
      "execution_count": 32,
      "metadata": {
        "id": "L7DWcpw5vvLe"
      },
      "outputs": [],
      "source": [
        "y=train_set['isChurn']\n",
        "x=train_set.drop(['isChurn'],axis=1)"
      ]
    },
    {
      "cell_type": "code",
      "execution_count": 33,
      "metadata": {
        "id": "Oz5BoDBOvvLf"
      },
      "outputs": [],
      "source": [
        "from sklearn.model_selection import train_test_split\n",
        "X_train,X_test,y_train,y_test = train_test_split(x,y,test_size=0.2,random_state=1)"
      ]
    },
    {
      "cell_type": "code",
      "execution_count": 34,
      "metadata": {
        "id": "_LKutdguvvLg"
      },
      "outputs": [],
      "source": [
        "X_train,X_val,y_train,y_val = sk.model_selection.train_test_split(X_train,y_train,test_size=0.2,random_state=1)"
      ]
    },
    {
      "cell_type": "code",
      "execution_count": 35,
      "metadata": {
        "colab": {
          "base_uri": "https://localhost:8080/"
        },
        "id": "_Q0OG4QZvvLh",
        "outputId": "6e94436b-f236-4a87-a05d-d55efcefac8d"
      },
      "outputs": [
        {
          "output_type": "execute_result",
          "data": {
            "text/plain": [
              "DecisionTreeClassifier()"
            ]
          },
          "metadata": {},
          "execution_count": 35
        }
      ],
      "source": [
        "# Decision Tree\n",
        "\n",
        "from sklearn.tree import DecisionTreeClassifier\n",
        "\n",
        "model1=DecisionTreeClassifier()\n",
        "model1.fit(X_train,y_train)"
      ]
    },
    {
      "cell_type": "code",
      "execution_count": 36,
      "metadata": {
        "id": "bw9KZ_xovvLh"
      },
      "outputs": [],
      "source": [
        "y_pred = model1.predict(X_test)"
      ]
    },
    {
      "cell_type": "code",
      "execution_count": 37,
      "metadata": {
        "colab": {
          "base_uri": "https://localhost:8080/"
        },
        "id": "hR9YCIQ_vvLi",
        "outputId": "5f539753-4e43-403a-eee7-e332e5d949a7"
      },
      "outputs": [
        {
          "output_type": "stream",
          "name": "stdout",
          "text": [
            "[[10069   161]\n",
            " [  191 37775]]\n",
            "              precision    recall  f1-score   support\n",
            "\n",
            "           0       0.98      0.98      0.98     10230\n",
            "           1       1.00      0.99      1.00     37966\n",
            "\n",
            "    accuracy                           0.99     48196\n",
            "   macro avg       0.99      0.99      0.99     48196\n",
            "weighted avg       0.99      0.99      0.99     48196\n",
            "\n"
          ]
        }
      ],
      "source": [
        "# Evaluating decision tree\n",
        "from sklearn.metrics import classification_report, confusion_matrix\n",
        "print(confusion_matrix(y_test, y_pred))\n",
        "print(classification_report(y_test, y_pred))"
      ]
    },
    {
      "cell_type": "code",
      "execution_count": 38,
      "metadata": {
        "colab": {
          "base_uri": "https://localhost:8080/"
        },
        "id": "514WuZwIvvLj",
        "outputId": "e31a984a-bc4a-470f-c007-9b7ce5c46bf4"
      },
      "outputs": [
        {
          "output_type": "stream",
          "name": "stdout",
          "text": [
            "[LibLinear]"
          ]
        },
        {
          "output_type": "stream",
          "name": "stderr",
          "text": [
            "/usr/local/lib/python3.7/dist-packages/sklearn/svm/_base.py:1208: ConvergenceWarning: Liblinear failed to converge, increase the number of iterations.\n",
            "  ConvergenceWarning,\n"
          ]
        },
        {
          "output_type": "execute_result",
          "data": {
            "text/plain": [
              "LinearSVC(max_iter=5000, verbose=True)"
            ]
          },
          "metadata": {},
          "execution_count": 38
        }
      ],
      "source": [
        "#SVM\n",
        "from sklearn.svm import LinearSVC\n",
        "\n",
        "model2=LinearSVC(max_iter=5000,verbose=True)\n",
        "model2.fit(X_train,y_train)"
      ]
    },
    {
      "cell_type": "code",
      "execution_count": 39,
      "metadata": {
        "id": "MtoziwMtvvLj"
      },
      "outputs": [],
      "source": [
        "y_pred = model2.predict(X_test)"
      ]
    },
    {
      "cell_type": "code",
      "execution_count": 40,
      "metadata": {
        "colab": {
          "base_uri": "https://localhost:8080/"
        },
        "id": "OO_9H7CNvvLk",
        "outputId": "2fcf8159-646d-4fe6-9a33-dafb78554149"
      },
      "outputs": [
        {
          "output_type": "stream",
          "name": "stdout",
          "text": [
            "[[    0 10230]\n",
            " [    2 37964]]\n",
            "              precision    recall  f1-score   support\n",
            "\n",
            "           0       0.00      0.00      0.00     10230\n",
            "           1       0.79      1.00      0.88     37966\n",
            "\n",
            "    accuracy                           0.79     48196\n",
            "   macro avg       0.39      0.50      0.44     48196\n",
            "weighted avg       0.62      0.79      0.69     48196\n",
            "\n"
          ]
        }
      ],
      "source": [
        "# Evaluating SVM\n",
        "from sklearn.metrics import classification_report, confusion_matrix\n",
        "print(confusion_matrix(y_test, y_pred))\n",
        "print(classification_report(y_test, y_pred))"
      ]
    },
    {
      "cell_type": "code",
      "execution_count": null,
      "metadata": {
        "id": "Ve9WN_KnvvLl"
      },
      "outputs": [],
      "source": [
        "#ANN\n",
        "from sklearn.neural_network import MLPClassifier\n",
        "\n",
        "model3=MLPClassifier(max_iter=5000,verbose=True)\n",
        "model3.fit(X_train,y_train)"
      ]
    },
    {
      "cell_type": "code",
      "execution_count": 42,
      "metadata": {
        "id": "fqm_h6C-vvLm"
      },
      "outputs": [],
      "source": [
        "y_pred = model3.predict(X_test)"
      ]
    },
    {
      "cell_type": "code",
      "execution_count": 43,
      "metadata": {
        "colab": {
          "base_uri": "https://localhost:8080/"
        },
        "id": "BYFDwByLvvLm",
        "outputId": "008ef60e-14b0-4251-e2ea-7787cd3c3f3f"
      },
      "outputs": [
        {
          "output_type": "stream",
          "name": "stdout",
          "text": [
            "[[ 1731  8499]\n",
            " [ 1096 36870]]\n",
            "              precision    recall  f1-score   support\n",
            "\n",
            "           0       0.61      0.17      0.27     10230\n",
            "           1       0.81      0.97      0.88     37966\n",
            "\n",
            "    accuracy                           0.80     48196\n",
            "   macro avg       0.71      0.57      0.58     48196\n",
            "weighted avg       0.77      0.80      0.75     48196\n",
            "\n"
          ]
        }
      ],
      "source": [
        "# Evaluating neural network\n",
        "from sklearn.metrics import classification_report, confusion_matrix\n",
        "print(confusion_matrix(y_test, y_pred))\n",
        "print(classification_report(y_test, y_pred))"
      ]
    }
  ],
  "metadata": {
    "kernelspec": {
      "display_name": "Python 3.10.4 64-bit",
      "language": "python",
      "name": "python3"
    },
    "language_info": {
      "codemirror_mode": {
        "name": "ipython",
        "version": 3
      },
      "file_extension": ".py",
      "mimetype": "text/x-python",
      "name": "python",
      "nbconvert_exporter": "python",
      "pygments_lexer": "ipython3",
      "version": "3.10.4"
    },
    "orig_nbformat": 4,
    "vscode": {
      "interpreter": {
        "hash": "6636ba45faffc219cae2b87741d963292a78c82ff95ce9fb53c4afc5b5891e1b"
      }
    },
    "colab": {
      "provenance": []
    }
  },
  "nbformat": 4,
  "nbformat_minor": 0
}